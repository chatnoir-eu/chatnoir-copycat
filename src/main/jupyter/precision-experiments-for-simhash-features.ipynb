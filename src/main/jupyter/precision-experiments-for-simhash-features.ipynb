{
 "cells": [
  {
   "cell_type": "code",
   "execution_count": null,
   "metadata": {},
   "outputs": [],
   "source": [
    "sc"
   ]
  },
  {
   "cell_type": "code",
   "execution_count": null,
   "metadata": {},
   "outputs": [],
   "source": [
    "sc.textFile('cikm2020/canonical-link-graph/feature-set-precision-experiments/cw09-1-gramms-raw-data.jsonl').take(2)"
   ]
  },
  {
   "cell_type": "code",
   "execution_count": 12,
   "metadata": {},
   "outputs": [],
   "source": [
    "def map_to_precision_recall_counter(src, threshold):\n",
    "    import json\n",
    "    parsed = json.loads(src)\n",
    "    truePositive = parsed['s3Score'] >= threshold\n",
    "    \n",
    "    return (parsed['candidate']['featureName'] , {\n",
    "        'truePositiveCount': 1 if truePositive else 0,\n",
    "        'falsePositiveCount': 0 if truePositive else 1\n",
    "    })\n",
    "\n",
    "def comb(i, j):\n",
    "    return {\n",
    "        'truePositiveCount': i['truePositiveCount']+j['truePositiveCount'],\n",
    "        'falsePositiveCount': i['falsePositiveCount']+j['falsePositiveCount']\n",
    "    }\n",
    "\n",
    "def extract_raw_precision_experiment_results(sc, collection):\n",
    "    zeroValue = {'truePositiveCount': 0, 'falsePositiveCount': 0}\n",
    "    return sc.textFile('cikm2020/canonical-link-graph/feature-set-precision-experiments/collection-*-gramms-raw-data.jsonl')\\\n",
    "        .map(lambda i: map_to_precision_recall_counter(i))\\\n",
    "        .aggregateByKey(zeroValue, comb, comb)\\\n",
    "        .collect()\n"
   ]
  },
  {
   "cell_type": "code",
   "execution_count": null,
   "metadata": {},
   "outputs": [],
   "source": [
    "raw_data_cw_09 = extract_raw_precision_experiment_results(sc, 'cw09')\n",
    "#raw_data_cw_12 = extract_raw_precision_experiment_results(sc, 'cw12')\n",
    "#raw_data_cc_15 = extract_raw_precision_experiment_results(sc, 'cc-2015-11')\n",
    "#raw_data_cc_17 = extract_raw_precision_experiment_results(sc, 'cc-2017-04')"
   ]
  }
 ],
 "metadata": {
  "kernelspec": {
   "display_name": "PySpark BETAWEB",
   "language": "python",
   "name": "pyspark-betaweb"
  },
  "language_info": {
   "codemirror_mode": {
    "name": "ipython",
    "version": 3
   },
   "file_extension": ".py",
   "mimetype": "text/x-python",
   "name": "python",
   "nbconvert_exporter": "python",
   "pygments_lexer": "ipython3",
   "version": "3.6.8"
  }
 },
 "nbformat": 4,
 "nbformat_minor": 2
}
