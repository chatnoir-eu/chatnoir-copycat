{
 "cells": [
  {
   "cell_type": "markdown",
   "metadata": {},
   "source": [
    "# CopyCat: Example Usage on Argsme"
   ]
  },
  {
   "cell_type": "code",
   "execution_count": 1,
   "metadata": {},
   "outputs": [
    {
     "name": "stdout",
     "output_type": "stream",
     "text": [
      "Argsme index is already downloaded.\n"
     ]
    }
   ],
   "source": [
    "# Download the argsme anserini index\n",
    "import os.path\n",
    "INDEX='copycat-on-argsme-data/index'\n",
    "RUN_DIR='copycat-on-argsme-data/touche-runs-task1-2020'\n",
    "\n",
    "!mkdir -p copycat-on-argsme-data\n",
    "if not os.path.isfile('copycat-on-argsme-data/argsme-index.tar.gz') or not os.path.isdir(INDEX):\n",
    "    !wget -O copycat-on-argsme-data/argsme-index.tar.gz 'https://files.webis.de/data-in-progress/touche20/argsme-anserini-premise-conclusion-porter-stemmer.tar.gz'\n",
    "    !tar -xvzf copycat-on-argsme-data/argsme-index.tar.gz -C copycat-on-argsme-data\n",
    "    \n",
    "    !wget -O copycat-on-argsme-data/touche-runs-task1-2020.zip  https://webis.de/events/touche-21/runs-task-1-2020.zip\n",
    "    !unzip copycat-on-argsme-data/touche-runs-task1-2020.zip -d $RUN_DIR\n",
    "else:\n",
    "    print('Argsme index is already downloaded.')\n"
   ]
  },
  {
   "cell_type": "code",
   "execution_count": 2,
   "metadata": {},
   "outputs": [
    {
     "name": "stdout",
     "output_type": "stream",
     "text": [
      "The specified output 'copycat-on-argsme-data/delete-me-run-baseline-top100.jsonl' exists.\r\n",
      "Skip...\r\n"
     ]
    }
   ],
   "source": [
    "!cp $RUN_DIR/runs-task-1/touche-2020-first-task-dataset-v2/'Swordsman Baseline'/Run/run.txt delete-me-baseline-run-argsme\n",
    "\n",
    "!../bash/copy-cat.sh \\\n",
    "    --output copycat-on-argsme-data/delete-me-run-baseline-top100.jsonl \\\n",
    "    --input delete-me-baseline-run-argsme \\\n",
    "    --similarities \"url s3 cosine(3+5-grams) cosine(8-grams) cosine(1-grams) simhash(1-grams) simhash(3+5-grams) md5 text-profile\" \\\n",
    "    --s3Threshold 0.6 \\\n",
    "    --threads 5 \\\n",
    "    --ranks 100 \\\n",
    "    --documents AnseriniIndex \\\n",
    "    --anseriniIndex $INDEX"
   ]
  },
  {
   "cell_type": "code",
   "execution_count": 3,
   "metadata": {},
   "outputs": [
    {
     "name": "stdout",
     "output_type": "stream",
     "text": [
      "The specified output 'copycat-on-argsme-data/delete-me-run-baseline-top1000.jsonl' exists.\r\n",
      "Skip...\r\n"
     ]
    }
   ],
   "source": [
    "!../bash/copy-cat.sh \\\n",
    "    --output copycat-on-argsme-data/delete-me-run-baseline-top1000.jsonl \\\n",
    "    --input delete-me-baseline-run-argsme \\\n",
    "    --similarities \"url s3 cosine(3+5-grams) cosine(8-grams) cosine(1-grams) simhash(1-grams) simhash(3+5-grams) md5 text-profile\" \\\n",
    "    --s3Threshold 0.6 \\\n",
    "    --threads 5 \\\n",
    "    --ranks 1000 \\\n",
    "    --documents AnseriniIndex \\\n",
    "    --anseriniIndex $INDEX"
   ]
  },
  {
   "cell_type": "code",
   "execution_count": 4,
   "metadata": {},
   "outputs": [],
   "source": [
    "import json\n",
    "import pandas as pd\n",
    "\n",
    "def eval_with_threshold(threshold, run_file_name):\n",
    "    rows = []\n",
    "    with open(run_file_name) as jsonl_file:\n",
    "        for jsonl in jsonl_file:\n",
    "            dedup_data = json.loads(jsonl)\n",
    "            docs_to_remove = []\n",
    "            \n",
    "            for sim in dedup_data['similarities']:\n",
    "                if sim['similarities']['s3'] >=  threshold:\n",
    "                    docs_to_remove += [sim['secondId']]\n",
    "\n",
    "                \n",
    "            rows += [{\n",
    "                    'topic': dedup_data['topic'],\n",
    "                    'duplicates': len(set(docs_to_remove)),\n",
    "                    'docs': dedup_data['docs'],\n",
    "                }]\n",
    "\n",
    "    return rows\n",
    "\n",
    "def eval_runs_with_threshold(threshold, run_files):\n",
    "    rows = []\n",
    "    for r in run_files:\n",
    "        rows += eval_with_threshold(threshold, r)\n",
    "    \n",
    "    return pd.DataFrame(rows)"
   ]
  },
  {
   "cell_type": "code",
   "execution_count": 5,
   "metadata": {},
   "outputs": [],
   "source": [
    "DEDUP_TARGET_DIR='copycat-on-argsme-data/'\n",
    "ALL_DIRS=!ls $DEDUP_TARGET_DIR\n",
    "ALL_DIRS = [DEDUP_TARGET_DIR + i for i in ALL_DIRS if '.jsonl' in i]\n",
    "\n",
    "df = eval_runs_with_threshold(0.82, ALL_DIRS)\n",
    "df['redundancy'] = df['duplicates']/df['docs']"
   ]
  },
  {
   "cell_type": "code",
   "execution_count": 6,
   "metadata": {},
   "outputs": [
    {
     "data": {
      "text/html": [
       "<div>\n",
       "<style scoped>\n",
       "    .dataframe tbody tr th:only-of-type {\n",
       "        vertical-align: middle;\n",
       "    }\n",
       "\n",
       "    .dataframe tbody tr th {\n",
       "        vertical-align: top;\n",
       "    }\n",
       "\n",
       "    .dataframe thead th {\n",
       "        text-align: right;\n",
       "    }\n",
       "</style>\n",
       "<table border=\"1\" class=\"dataframe\">\n",
       "  <thead>\n",
       "    <tr style=\"text-align: right;\">\n",
       "      <th></th>\n",
       "      <th>redundancy</th>\n",
       "    </tr>\n",
       "    <tr>\n",
       "      <th>docs</th>\n",
       "      <th></th>\n",
       "    </tr>\n",
       "  </thead>\n",
       "  <tbody>\n",
       "    <tr>\n",
       "      <th>100</th>\n",
       "      <td>0.0256</td>\n",
       "    </tr>\n",
       "    <tr>\n",
       "      <th>1000</th>\n",
       "      <td>0.0220</td>\n",
       "    </tr>\n",
       "  </tbody>\n",
       "</table>\n",
       "</div>"
      ],
      "text/plain": [
       "      redundancy\n",
       "docs            \n",
       "100       0.0256\n",
       "1000      0.0220"
      ]
     },
     "execution_count": 6,
     "metadata": {},
     "output_type": "execute_result"
    }
   ],
   "source": [
    "df[['docs', 'redundancy']].groupby('docs').mean()"
   ]
  },
  {
   "cell_type": "code",
   "execution_count": 8,
   "metadata": {},
   "outputs": [
    {
     "data": {
      "text/plain": [
       "<seaborn.axisgrid.FacetGrid at 0x7f0be8e58c70>"
      ]
     },
     "execution_count": 8,
     "metadata": {},
     "output_type": "execute_result"
    },
    {
     "data": {
      "image/png": "[encoded data removed]",
      "text/plain": [
       "<Figure size 360x360 with 1 Axes>"
      ]
     },
     "metadata": {
      "needs_background": "light"
     },
     "output_type": "display_data"
    }
   ],
   "source": [
    "import seaborn as sns\n",
    "sns.catplot(data=df, x='docs', y='redundancy', hue='docs')"
   ]
  }
 ],
 "metadata": {
  "kernelspec": {
   "display_name": "Python 3",
   "language": "python",
   "name": "python3"
  },
  "language_info": {
   "codemirror_mode": {
    "name": "ipython",
    "version": 3
   },
   "file_extension": ".py",
   "mimetype": "text/x-python",
   "name": "python",
   "nbconvert_exporter": "python",
   "pygments_lexer": "ipython3",
   "version": "3.8.0"
  }
 },
 "nbformat": 4,
 "nbformat_minor": 4
}
