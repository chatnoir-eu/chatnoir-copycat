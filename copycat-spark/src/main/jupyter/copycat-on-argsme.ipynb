{
 "cells": [
  {
   "cell_type": "markdown",
   "metadata": {},
   "source": [
    "# CopyCat: Example Usage on Argsme\n",
    "\n",
    "This notebook assumes that you have a jupyter notebook with CopyCat installed.\n",
    "To start a jupyter notebook with CopyCat installed and your local directory mounted, run:\n",
    "```\n",
    "docker run --rm -ti -v ${PWD}:/home/jovyan -p 8888:8888 webis/chatnoir-copycat:1.0-jupyter\n",
    "```\n",
    "\n",
    "\n",
    "Then, we use the CopyCat cli to deduplicate run files submitted to the [Touché](https://webis.de/events/touche-20/) shared task on argument retrieval. The corpus of the shared task is the [args.me corpus](https://zenodo.org/record/3734893#.YETkhiso_rk), which contains 387,740 arguments crawled from  four debate portals (debatewise.org, idebate.org, debatepedia.org, anddebate.org)."
   ]
  },
  {
   "cell_type": "markdown",
   "metadata": {},
   "source": [
    "## Step 1: Download the argsme anserini index\n",
    "\n",
    "The following code downloads the argsme index for Anserini that we use for the deduplication analysis on the argsme corpus."
   ]
  },
  {
   "cell_type": "code",
   "execution_count": 1,
   "metadata": {},
   "outputs": [
    {
     "name": "stdout",
     "output_type": "stream",
     "text": [
      "Argsme index is already downloaded.\n"
     ]
    }
   ],
   "source": [
    "import os.path\n",
    "INDEX='copycat-on-argsme-data/index'\n",
    "RUN_DIR='copycat-on-argsme-data/touche-runs-task1-2020/touche-runs-task1-2020/runs-task-1/touche-2020-first-task-dataset-v2/'\n",
    "\n",
    "!mkdir -p copycat-on-argsme-data\n",
    "if not os.path.isfile('copycat-on-argsme-data/argsme-index.tar.gz') or not os.path.isdir(INDEX):\n",
    "    !wget -O copycat-on-argsme-data/argsme-index.tar.gz 'https://files.webis.de/data-in-progress/touche20/argsme-anserini-premise-conclusion-porter-stemmer.tar.gz'\n",
    "    !tar -xvzf copycat-on-argsme-data/argsme-index.tar.gz -C copycat-on-argsme-data\n",
    "    \n",
    "    !wget -O copycat-on-argsme-data/touche-runs-task1-2020.zip  'https://files.webis.de/data-in-progress/touche20/touche-runs-task1-2020.zip'\n",
    "    !unzip copycat-on-argsme-data/touche-runs-task1-2020.zip -d $RUN_DIR\n",
    "else:\n",
    "    print('Argsme index is already downloaded.')\n"
   ]
  },
  {
   "cell_type": "markdown",
   "metadata": {},
   "source": [
    "# Step 2: Verify the Download; Double Check the Document Preprocessing\n",
    "\n",
    "We have double-checked the preprocessing for the ClueWebs and CommonCrawls by many unit and integration tests.\n",
    "Since the argsme dataset is not included in these tests, we have to double-check the preprocessing using some examples. (Please [see here](https://github.com/chatnoir-eu/copycat/blob/master/copycat-modules/document-preprocessing/README.md) for an overview of preprocessing options.)\n",
    "\n",
    "To verify the preprocessing, we check a few documents manually."
   ]
  },
  {
   "cell_type": "code",
   "execution_count": 2,
   "metadata": {},
   "outputs": [
    {
     "name": "stdout",
     "output_type": "stream",
     "text": [
      "argument flaw current systemtest score nation center fair open test nft 1 note mani school focu littl too much test score teacher evalu order get grant from child left behind so school real reason behind give test score too much worth when come teacher evalu actual accuraci evalu opportun obtain grant principl review thi veri obviou teacher can easili chang up regular wai teach moment principl walk i see thi all time teacher i have had.of cour both factor should go awai clear someth miss nft explain measur teacher princip qualiti effect u multipl measur base school classroom evid accuraci student evaluationsstud evalu ar just what high school need correctli ass teacher abil atlant cite studi perform variou teacher evalu fill out student 2 evalu were prove much more accur than ani known wai assess instructor abil thi studi wa abl show teacher high rate were abl fit six more month learn than teacher lowest rate thi show student don’t alwai give teacher high rate becau thei like easi class improv school systemteach union expo note todai bad teacher ar actual protect 3 onli 1 1,000 bad teacher ar fire thi becau onc teacher gain tenur thei basic cannot fire take about 3 year mostli posit evalu achiev tenur most case i have prove abov current evalu system can protect bad teacher becau test score administr assess alon cannot accur measur teacher worth ad accuraci student evalu chanc bad teacher get tenur becom much lower student first organ sfo strongli believ student evalu ar kei put student first which should ultim goal everi school system i'll get more later benefit student teacherstud obviou student put first student satisfi nubia baptesti enjoi thi system integr thi school system 2 classmat stand next her shook her head thei should'v done thi sinc i wa eighth grade ben johnson teacher administr himself conduct studi show overwhelm gap between what student expect from teacher what thei actual get averag gap 35 4 can assess teacher abil better than student becau thei ar taught teacher daili student feel like teacher cannot meet expect student evalu teacher give them wai make voic heard just administr teacher teacher thi point i'm mainli talk about teacher who strive learn how teach better abov i show larg gap between student expect teacher v what student receiv when student note what teacher do right wrong teacher can know how improv method teach conclusionelabor student first organ card accord sfo our evalu system put student first thi disson would imposs good evalu ar honest transpar ar calcul understand manner accur ass over perform identifi opportun teacher improv essenti thi can onli done student evalu benefit school pick out good teacher make sure school prioriti ar right benefit student help them feel like thei have sai benefit teacher let them know how improv why evalu should integr high school 5 1 http www.fairtest.org 2 http www.theatlantic.com 3 http teachersunionexposed.com 4 http www.edutopia.org 5 http www.studentsfirst.org thank you unknown_plai accept good luck i'm look forward great debat high school should add student teacher evalu system\r\n"
     ]
    }
   ],
   "source": [
    "# Use CopyCat to check the preprocessing for a single document\n",
    "\n",
    "!copy-cat \\\n",
    "    --retrieveDocId S1a76ed9f-A25eafb83 \\\n",
    "    --documents AnseriniIndex \\\n",
    "    --anseriniIndex $INDEX \\\n",
    "    --keepStopwords True \\\n",
    "    --output a --input a"
   ]
  },
  {
   "cell_type": "markdown",
   "metadata": {},
   "source": [
    "The preprocessed argsme document `S1a76ed9f-A25eafb83` loogs good (stemming as expected, no problems with encoding, etc.)."
   ]
  },
  {
   "cell_type": "markdown",
   "metadata": {},
   "source": [
    "## Step 3: Deduplicate all run files submitted to Touché\n",
    "\n",
    "Now that we have double-checked that the document preprocessing works as expected for argsme, we can deduplicate the run files and inspect the results."
   ]
  },
  {
   "cell_type": "code",
   "execution_count": 3,
   "metadata": {},
   "outputs": [
    {
     "name": "stdout",
     "output_type": "stream",
     "text": [
      "The specified output 'copycat-on-argsme-data/aragorn-run-01-top10.jsonl' exists.\n",
      "Skip...\n",
      "The specified output 'copycat-on-argsme-data/aragorn-run-01-top100.jsonl' exists.\n",
      "Skip...\n",
      "The specified output 'copycat-on-argsme-data/aragorn-run-02-top10.jsonl' exists.\n",
      "Skip...\n",
      "The specified output 'copycat-on-argsme-data/aragorn-run-02-top100.jsonl' exists.\n",
      "Skip...\n",
      "The specified output 'copycat-on-argsme-data/aragorn-run-03-top10.jsonl' exists.\n",
      "Skip...\n",
      "The specified output 'copycat-on-argsme-data/aragorn-run-03-top100.jsonl' exists.\n",
      "Skip...\n",
      "The specified output 'copycat-on-argsme-data/aragorn-run-04-top10.jsonl' exists.\n",
      "Skip...\n",
      "The specified output 'copycat-on-argsme-data/aragorn-run-04-top100.jsonl' exists.\n",
      "Skip...\n",
      "The specified output 'copycat-on-argsme-data/aragorn-run-05-top10.jsonl' exists.\n",
      "Skip...\n",
      "The specified output 'copycat-on-argsme-data/aragorn-run-05-top100.jsonl' exists.\n",
      "Skip...\n",
      "The specified output 'copycat-on-argsme-data/dread-pirate-roberts-run-01-top10.jsonl' exists.\n",
      "Skip...\n",
      "The specified output 'copycat-on-argsme-data/dread-pirate-roberts-run-01-top100.jsonl' exists.\n",
      "Skip...\n",
      "The specified output 'copycat-on-argsme-data/dread-pirate-roberts-run-02-top10.jsonl' exists.\n",
      "Skip...\n",
      "The specified output 'copycat-on-argsme-data/dread-pirate-roberts-run-02-top100.jsonl' exists.\n",
      "Skip...\n",
      "The specified output 'copycat-on-argsme-data/dread-pirate-roberts-run-03-top10.jsonl' exists.\n",
      "Skip...\n",
      "The specified output 'copycat-on-argsme-data/dread-pirate-roberts-run-03-top100.jsonl' exists.\n",
      "Skip...\n",
      "The specified output 'copycat-on-argsme-data/dread-pirate-roberts-run-04-top10.jsonl' exists.\n",
      "Skip...\n",
      "The specified output 'copycat-on-argsme-data/dread-pirate-roberts-run-04-top100.jsonl' exists.\n",
      "Skip...\n",
      "The specified output 'copycat-on-argsme-data/dread-pirate-roberts-run-05-top10.jsonl' exists.\n",
      "Skip...\n",
      "The specified output 'copycat-on-argsme-data/dread-pirate-roberts-run-05-top100.jsonl' exists.\n",
      "Skip...\n",
      "The specified output 'copycat-on-argsme-data/swordsman-baseline-run-01-top10.jsonl' exists.\n",
      "Skip...\n",
      "The specified output 'copycat-on-argsme-data/swordsman-baseline-run-01-top100.jsonl' exists.\n",
      "Skip...\n",
      "The specified output 'copycat-on-argsme-data/zorro-run-01-top10.jsonl' exists.\n",
      "Skip...\n",
      "The specified output 'copycat-on-argsme-data/zorro-run-01-top100.jsonl' exists.\n",
      "Skip...\n"
     ]
    }
   ],
   "source": [
    "# this helper function executes copycat on the passed run file with the double-checked document preprocessing\n",
    "def deduplicate_run_file(run_name, ranks):\n",
    "    input_run_file=RUN_DIR + run_name + '.txt'\n",
    "    output_file='copycat-on-argsme-data/' + run_name + '-top' + str(ranks) + '.jsonl'\n",
    "    !copy-cat \\\n",
    "        --output $output_file \\\n",
    "        --input $input_run_file \\\n",
    "        --similarities \"s3\" \\\n",
    "        --s3Threshold 0.8 \\\n",
    "        --threads 5 \\\n",
    "        --ranks $ranks \\\n",
    "        --documents AnseriniIndex \\\n",
    "        --keepStopwords True \\\n",
    "        --anseriniIndex $INDEX\n",
    "\n",
    "# Preprocess all runs\n",
    "RUNS = !ls $RUN_DIR |grep run|grep txt\n",
    "for run in RUNS:\n",
    "    for depth in [10, 100]:\n",
    "        deduplicate_run_file(run.replace('.txt', ''), depth)"
   ]
  },
  {
   "cell_type": "markdown",
   "metadata": {},
   "source": [
    "## Step 4: Analyse Near-Duplicates in run files submitted to Touché\n",
    "\n",
    "Now that we have identified near-duplicates in the top-10 and top-100 ranks of run files submitted to touche.\n",
    "We use pandas and seaborn for the analysis."
   ]
  },
  {
   "cell_type": "code",
   "execution_count": 4,
   "metadata": {},
   "outputs": [],
   "source": [
    "import json\n",
    "import pandas as pd\n",
    "import seaborn as sns\n",
    "\n",
    "def eval_with_threshold(threshold, run_file_name):\n",
    "    rows = []\n",
    "    with open(run_file_name) as jsonl_file:\n",
    "        for jsonl in jsonl_file:\n",
    "            dedup_data = json.loads(jsonl)\n",
    "            docs_to_remove = []\n",
    "            \n",
    "            for sim in dedup_data['similarities']:\n",
    "                if sim['similarities']['s3'] >=  threshold:\n",
    "                    docs_to_remove += [sim['secondId']]\n",
    "\n",
    "                \n",
    "            rows += [{\n",
    "                    'topic': dedup_data['topic'],\n",
    "                    'duplicates': len(set(docs_to_remove)),\n",
    "                    'docs': dedup_data['docs'],\n",
    "                }]\n",
    "\n",
    "    return rows\n",
    "\n",
    "def eval_runs_with_threshold(threshold, run_files):\n",
    "    rows = []\n",
    "    for r in run_files:\n",
    "        rows += eval_with_threshold(threshold, r)\n",
    "    \n",
    "    return pd.DataFrame(rows)\n",
    "\n",
    "DEDUP_TARGET_DIR='copycat-on-argsme-data/'\n",
    "\n",
    "ALL_DIRS=!ls $DEDUP_TARGET_DIR\n",
    "ALL_DIRS = [DEDUP_TARGET_DIR + i for i in ALL_DIRS if 'top10.jsonl' in i]\n",
    "\n",
    "df10 = eval_runs_with_threshold(0.82, ALL_DIRS)\n",
    "df10['redundancy'] = df10['duplicates']/df10['docs']\n",
    "df10['docs'] = 10\n",
    "\n",
    "ALL_DIRS=!ls $DEDUP_TARGET_DIR\n",
    "ALL_DIRS = [DEDUP_TARGET_DIR + i for i in ALL_DIRS if 'top100.jsonl' in i]\n",
    "\n",
    "df100 = eval_runs_with_threshold(0.82, ALL_DIRS)\n",
    "df100['redundancy'] = df100['duplicates']/df100['docs']\n",
    "df100['docs'] = 100\n",
    "\n",
    "df = pd.concat([df10, df100])"
   ]
  },
  {
   "cell_type": "markdown",
   "metadata": {},
   "source": [
    "First, we analyse the mean number of near-duplicates in the top positions."
   ]
  },
  {
   "cell_type": "code",
   "execution_count": 5,
   "metadata": {},
   "outputs": [
    {
     "data": {
      "text/html": [
       "<div>\n",
       "<style scoped>\n",
       "    .dataframe tbody tr th:only-of-type {\n",
       "        vertical-align: middle;\n",
       "    }\n",
       "\n",
       "    .dataframe tbody tr th {\n",
       "        vertical-align: top;\n",
       "    }\n",
       "\n",
       "    .dataframe thead th {\n",
       "        text-align: right;\n",
       "    }\n",
       "</style>\n",
       "<table border=\"1\" class=\"dataframe\">\n",
       "  <thead>\n",
       "    <tr style=\"text-align: right;\">\n",
       "      <th></th>\n",
       "      <th>redundancy</th>\n",
       "    </tr>\n",
       "    <tr>\n",
       "      <th>docs</th>\n",
       "      <th></th>\n",
       "    </tr>\n",
       "  </thead>\n",
       "  <tbody>\n",
       "    <tr>\n",
       "      <th>10</th>\n",
       "      <td>0.014833</td>\n",
       "    </tr>\n",
       "    <tr>\n",
       "      <th>100</th>\n",
       "      <td>0.017621</td>\n",
       "    </tr>\n",
       "  </tbody>\n",
       "</table>\n",
       "</div>"
      ],
      "text/plain": [
       "      redundancy\n",
       "docs            \n",
       "10      0.014833\n",
       "100     0.017621"
      ]
     },
     "execution_count": 5,
     "metadata": {},
     "output_type": "execute_result"
    }
   ],
   "source": [
    "df[['docs', 'redundancy']].groupby('docs').mean()"
   ]
  },
  {
   "cell_type": "code",
   "execution_count": 6,
   "metadata": {},
   "outputs": [
    {
     "data": {
      "text/plain": [
       "<seaborn.axisgrid.FacetGrid at 0x7fdc38e27970>"
      ]
     },
     "execution_count": 6,
     "metadata": {},
     "output_type": "execute_result"
    },
    {
     "data": {
      "image/png": "[encoded data removed]",
      "text/plain": [
       "<Figure size 360x360 with 1 Axes>"
      ]
     },
     "metadata": {
      "needs_background": "light"
     },
     "output_type": "display_data"
    }
   ],
   "source": [
    "import seaborn as sns\n",
    "sns.catplot(data=df, x='docs', y='redundancy', kind='bar', hue='docs')"
   ]
  },
  {
   "cell_type": "markdown",
   "metadata": {},
   "source": [
    "## Conclusion\n",
    "\n",
    "Overall, we see that there are only few near-duplicates in runs submitted to the Touché shared task.\n",
    "This is reasonable, since the argsme dataset is a small focused crawl with 387,740 arguments.\n",
    "Hence, it is reasonable that near-duplicates do not have an high impact, but still it is important that we have verified that the negative effects that duplicates can have (information leakage in train/test splits, [overfitting in LTR](https://webis.de/downloads/publications/papers/webis_2020d.pdf), [ artificially inflates performance scores](https://webis.de/downloads/publications/papers/webis_2020b.pdf)) have only negligible impact on Touché."
   ]
  }
 ],
 "metadata": {
  "kernelspec": {
   "display_name": "Python 3",
   "language": "python",
   "name": "python3"
  },
  "language_info": {
   "codemirror_mode": {
    "name": "ipython",
    "version": 3
   },
   "file_extension": ".py",
   "mimetype": "text/x-python",
   "name": "python",
   "nbconvert_exporter": "python",
   "pygments_lexer": "ipython3",
   "version": "3.8.6"
  }
 },
 "nbformat": 4,
 "nbformat_minor": 4
}
