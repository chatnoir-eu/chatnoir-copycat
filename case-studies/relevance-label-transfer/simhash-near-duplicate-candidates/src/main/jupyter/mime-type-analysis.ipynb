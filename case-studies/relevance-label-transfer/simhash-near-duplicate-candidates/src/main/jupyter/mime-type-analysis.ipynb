{
 "cells": [
  {
   "cell_type": "code",
   "execution_count": 1,
   "metadata": {},
   "outputs": [],
   "source": [
    "import pandas as pd\n",
    "\n",
    "df_cw09 = pd.read_json('cw09-mime-types.jsonl', lines = True)\n",
    "df_cw12 = pd.read_json('cw12-mime-types.jsonl', lines = True)\n",
    "df_cc15 = pd.read_json('cc2015-11-mime-types.jsonl', lines = True)\n",
    "df_cc17 = pd.read_json('cc2017-04-mime-types.jsonl', lines = True)\n",
    "\n",
    "def report_html_proportion(df):\n",
    "    html_count = df[(df['type'] == 'response') & (df['contentType'] == 'text/html')]['count'].sum()\n",
    "    all_count = df[(df['type'] == 'response')]['count'].sum()\n",
    "    \n",
    "    return str(html_count) + '/' + str(all_count) + \" = \" + str(html_count/all_count)"
   ]
  },
  {
   "cell_type": "code",
   "execution_count": 2,
   "metadata": {},
   "outputs": [
    {
     "name": "stdout",
     "output_type": "stream",
     "text": [
      "CW09: 1038387529/1040859705 = 0.9976248710675182\n",
      "CW12: 728991524/733019372 = 0.9945051274852256\n",
      "CC15: 1793911167/1837248669 = 0.9764117385244382\n",
      "CC17: 3102114187/3146467312 = 0.9859038341727416\n"
     ]
    }
   ],
   "source": [
    "print('CW09: ' + report_html_proportion(df_cw09))\n",
    "print('CW12: ' + report_html_proportion(df_cw12))\n",
    "print('CC15: ' + report_html_proportion(df_cc15))\n",
    "print('CC17: ' + report_html_proportion(df_cc17))"
   ]
  }
 ],
 "metadata": {
  "kernelspec": {
   "display_name": "Python 3",
   "language": "python",
   "name": "python3"
  },
  "language_info": {
   "codemirror_mode": {
    "name": "ipython",
    "version": 3
   },
   "file_extension": ".py",
   "mimetype": "text/x-python",
   "name": "python",
   "nbconvert_exporter": "python",
   "pygments_lexer": "ipython3",
   "version": "3.7.6"
  }
 },
 "nbformat": 4,
 "nbformat_minor": 4
}
