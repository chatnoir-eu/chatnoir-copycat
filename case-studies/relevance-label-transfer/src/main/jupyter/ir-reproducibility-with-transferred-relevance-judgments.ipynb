{
 "cells": [
  {
   "cell_type": "markdown",
   "metadata": {},
   "source": [
    "# IR-Reproducibility with Transferred Relevance Judgments"
   ]
  },
  {
   "cell_type": "code",
   "execution_count": 1,
   "metadata": {},
   "outputs": [],
   "source": [
    "import pandas as pd\n",
    "import json\n",
    "import numpy as np\n",
    "import seaborn as sns\n",
    "import random\n",
    "import sys\n",
    "\n",
    "sys.path.append('../../../simulate-label-transfer/transfer_simulation')\n",
    "\n",
    "from repro_measures import effect_ratio, delta_relative_improvement, classify_repro_pairs\n",
    "\n",
    "def regression_by_measure(df, measure: str):\n",
    "    g = sns.FacetGrid(\n",
    "        df.loc[:,[\"corpus\",\"tag\",measure]].sort_values(measure).replace({k: v for v,k in enumerate(df.sort_values(measure).tag.unique())}), \n",
    "        hue=\"corpus\",\n",
    "        height=6,\n",
    "        aspect=1.2\n",
    "    )\n",
    "    g.map(sns.regplot, \"tag\", measure, scatter_kws={'alpha':0.4})\n",
    "    g.add_legend()\n",
    "    \n",
    "    return g\n",
    "\n",
    "def query_regression_by_measure(df, topic: int, measure: str):\n",
    "    regression_by_measure(df[df['topic'] == topic], measure)\n",
    "\n",
    "def extract_metadata_from_Tag(tag):\n",
    "    tag = tag.replace('clueweb12-and-wayback12', 'clueweb12_and_wayback12')\n",
    "    return dict(list(map(lambda x: x.split(\"^\"), (\"collection^\"+tag).split(\"-\"))))\n",
    "\n",
    "def sorted_df(df):\n",
    "    return df.sort_values(\"tag\",ascending=False)\n",
    "\n",
    "def import_df(file_name):\n",
    "    df = pd.read_json(file_name, lines=True)\n",
    "    df = pd.merge(\n",
    "        pd.DataFrame(df.tag.apply(lambda t: extract_metadata_from_Tag(t)).tolist()).reset_index(),\n",
    "        df.reset_index(),\n",
    "        on=\"index\"\n",
    "    ).drop([\"index\",\"tag\"],axis=1)\n",
    "\n",
    "    df[\"tag\"] = df['body_lang.en'].astype(str)+df['title_lang.en'].astype(str)+df['meta_desc_lang.en'].astype(str)\n",
    "    \n",
    "    return sorted_df(df)\n",
    "\n",
    "def build_topic_df(df, topics: list=None, topic_start: int=None, topic_end: int=None):\n",
    "    if topics and topic_start and topic_end:\n",
    "        raise\n",
    "    elif not topics:\n",
    "        topics = [i for i in range(topic_start, topic_end+1)]\n",
    "    nqueries = len(topics)\n",
    "    df = df[(df['topic'].astype(int).isin(topics))]\n",
    "    df = df.groupby(['collection', 'body_lang.en', 'title_lang.en', 'meta_desc_lang.en', 'corpus', 'tag']).agg({\n",
    "        'bpref': np.mean,\n",
    "        'pseudoNDCG@10': np.mean,\n",
    "        'pseudoNDCG': np.mean\n",
    "    }).reset_index()\n",
    "    \n",
    "    columns = ['collection', 'body_lang.en', 'title_lang.en', 'meta_desc_lang.en', 'corpus', 'bpref', 'pseudoNDCG@10', 'pseudoNDCG', 'tag']\n",
    "    if topic_start and topic_end:\n",
    "        columns = ['collection', 'body_lang.en', 'title_lang.en', 'meta_desc_lang.en', 'corpus', 'topics', 'bpref', 'pseudoNDCG@10', 'pseudoNDCG', 'tag']\n",
    "        df['topics'] = 'topics-' + str(topic_start) + '-' + str(topic_end)\n",
    "    \n",
    "    df = df[columns]\n",
    "    \n",
    "    return sorted_df(df)\n",
    "\n",
    "def is_source_collection(r, target_collection):\n",
    "    if target_collection in ['cw12', 'cw12wb12']:\n",
    "        return r['topic'] <= 200 and r['corpus'] == 'cw09'\n",
    "    elif target_collection == 'cc15':\n",
    "        return (r['corpus'] == 'cw09' and r['topic'] <= 200) or (r['corpus'] == 'cw12' and r['topic'] > 200)\n",
    "    raise\n",
    "\n",
    "def label_transfer_df(df, target_collection):\n",
    "    df = df.copy()\n",
    "    df['is_source_collection'] = df.apply(lambda i: is_source_collection(i, target_collection), axis=1)\n",
    "    df = df[(df['is_source_collection'] == True) | (df['corpus'] == target_collection)]\n",
    "    df['corpus'] = df.apply(lambda i: 'source' if i['is_source_collection'] else target_collection, axis=1)\n",
    "    df['collection'] = df.apply(lambda i: 'source' if i['is_source_collection'] else i['collection'], axis=1)\n",
    "    \n",
    "    df['keep'] = df.apply(lambda i: is_shallow_topic(target_collection, i['topic']), axis=1)\n",
    "    df = df[df['keep'] == True]\n",
    "    \n",
    "    return df"
   ]
  },
  {
   "cell_type": "code",
   "execution_count": 5,
   "metadata": {},
   "outputs": [],
   "source": [
    "base_dir = '/mnt/ceph/storage/data-in-progress/kibi9872/sigir2021/'\n",
    "topic_df = import_df(base_dir + 'data-26-10-2020/rankings/reproducibility-evaluation-zero-scores-removed.jsonl')\n",
    "query_df = import_df(base_dir + 'data-26-10-2020/rankings/reproducibility-evaluation-per-query-zero-scores-removed.jsonl')"
   ]
  },
  {
   "cell_type": "markdown",
   "metadata": {},
   "source": [
    "# Helpers from transferred-topics"
   ]
  },
  {
   "cell_type": "code",
   "execution_count": 3,
   "metadata": {},
   "outputs": [],
   "source": [
    "import pandas as pd\n",
    "\n",
    "def is_shallow_topic(topic):\n",
    "    return topic['relevant'] > 0 and topic['irrelevant'] > 0 and (topic['relevant'] + topic['irrelevant']) >= 10\n",
    "    \n",
    "transferred_topics = pd.read_json('../../test/resources/overview-of-transferred-topics.jsonl', lines=True)\n",
    "transferred_topics['shallowTopic'] = transferred_topics.apply(lambda i: is_shallow_topic(i), axis=1)\n",
    "\n",
    "def is_shallow_topic(corpus, topic):\n",
    "    tmp_df = transferred_topics[(transferred_topics['targetCorpus'] == corpus) & (transferred_topics['topic'] == topic)]\n",
    "\n",
    "    return len(tmp_df) > 0 and tmp_df.iloc[0]['shallowTopic']"
   ]
  },
  {
   "cell_type": "markdown",
   "metadata": {},
   "source": [
    "# Precalculations"
   ]
  },
  {
   "cell_type": "code",
   "execution_count": 4,
   "metadata": {},
   "outputs": [],
   "source": [
    "query_dfs = {\n",
    "    'cc15': label_transfer_df(query_df, 'cc15'),\n",
    "    'cw12': label_transfer_df(query_df, 'cw12'),\n",
    "    'cw12wb12': label_transfer_df(query_df, 'cw12wb12'),\n",
    "}"
   ]
  },
  {
   "cell_type": "code",
   "execution_count": 5,
   "metadata": {},
   "outputs": [
    {
     "data": {
      "text/html": [
       "<div>\n",
       "<style scoped>\n",
       "    .dataframe tbody tr th:only-of-type {\n",
       "        vertical-align: middle;\n",
       "    }\n",
       "\n",
       "    .dataframe tbody tr th {\n",
       "        vertical-align: top;\n",
       "    }\n",
       "\n",
       "    .dataframe thead th {\n",
       "        text-align: right;\n",
       "    }\n",
       "</style>\n",
       "<table border=\"1\" class=\"dataframe\">\n",
       "  <thead>\n",
       "    <tr style=\"text-align: right;\">\n",
       "      <th></th>\n",
       "      <th>collection</th>\n",
       "      <th>body_lang.en</th>\n",
       "      <th>title_lang.en</th>\n",
       "      <th>meta_desc_lang.en</th>\n",
       "      <th>corpus</th>\n",
       "      <th>topics</th>\n",
       "      <th>bpref</th>\n",
       "      <th>pseudoNDCG@10</th>\n",
       "      <th>pseudoNDCG</th>\n",
       "      <th>tag</th>\n",
       "    </tr>\n",
       "  </thead>\n",
       "  <tbody>\n",
       "    <tr>\n",
       "      <th>502</th>\n",
       "      <td>clueweb12_and_wayback12</td>\n",
       "      <td>1.0</td>\n",
       "      <td>1.0</td>\n",
       "      <td>1.0</td>\n",
       "      <td>cw12wb12</td>\n",
       "      <td>topics-1-50</td>\n",
       "      <td>0.445783</td>\n",
       "      <td>0.472292</td>\n",
       "      <td>0.604790</td>\n",
       "      <td>1.01.01.0</td>\n",
       "    </tr>\n",
       "    <tr>\n",
       "      <th>2807</th>\n",
       "      <td>webis_warc_clueweb12_011</td>\n",
       "      <td>1.0</td>\n",
       "      <td>1.0</td>\n",
       "      <td>1.0</td>\n",
       "      <td>cw12</td>\n",
       "      <td>topics-201-250</td>\n",
       "      <td>0.350840</td>\n",
       "      <td>0.341778</td>\n",
       "      <td>0.578638</td>\n",
       "      <td>1.01.01.0</td>\n",
       "    </tr>\n",
       "    <tr>\n",
       "      <th>1398</th>\n",
       "      <td>webis_warc_clueweb09_003</td>\n",
       "      <td>1.0</td>\n",
       "      <td>1.0</td>\n",
       "      <td>1.0</td>\n",
       "      <td>cw09</td>\n",
       "      <td>topics-101-150</td>\n",
       "      <td>0.275651</td>\n",
       "      <td>0.287052</td>\n",
       "      <td>0.468339</td>\n",
       "      <td>1.01.01.0</td>\n",
       "    </tr>\n",
       "    <tr>\n",
       "      <th>2446</th>\n",
       "      <td>clueweb12_and_wayback12</td>\n",
       "      <td>1.0</td>\n",
       "      <td>1.0</td>\n",
       "      <td>1.0</td>\n",
       "      <td>cw12wb12</td>\n",
       "      <td>topics-151-200</td>\n",
       "      <td>0.309870</td>\n",
       "      <td>0.371314</td>\n",
       "      <td>0.489354</td>\n",
       "      <td>1.01.01.0</td>\n",
       "    </tr>\n",
       "    <tr>\n",
       "      <th>3310</th>\n",
       "      <td>webis_warc_commoncrawl15_002</td>\n",
       "      <td>1.0</td>\n",
       "      <td>1.0</td>\n",
       "      <td>1.0</td>\n",
       "      <td>cc15</td>\n",
       "      <td>topics-51-100</td>\n",
       "      <td>0.364970</td>\n",
       "      <td>0.470172</td>\n",
       "      <td>0.526436</td>\n",
       "      <td>1.01.01.0</td>\n",
       "    </tr>\n",
       "    <tr>\n",
       "      <th>...</th>\n",
       "      <td>...</td>\n",
       "      <td>...</td>\n",
       "      <td>...</td>\n",
       "      <td>...</td>\n",
       "      <td>...</td>\n",
       "      <td>...</td>\n",
       "      <td>...</td>\n",
       "      <td>...</td>\n",
       "      <td>...</td>\n",
       "      <td>...</td>\n",
       "    </tr>\n",
       "    <tr>\n",
       "      <th>2691</th>\n",
       "      <td>webis_warc_clueweb12_011</td>\n",
       "      <td>0.0</td>\n",
       "      <td>0.0</td>\n",
       "      <td>0.0</td>\n",
       "      <td>cw12</td>\n",
       "      <td>topics-201-250</td>\n",
       "      <td>0.000000</td>\n",
       "      <td>0.000000</td>\n",
       "      <td>0.000000</td>\n",
       "      <td>0.00.00.0</td>\n",
       "    </tr>\n",
       "    <tr>\n",
       "      <th>1849</th>\n",
       "      <td>clueweb12_and_wayback12</td>\n",
       "      <td>0.0</td>\n",
       "      <td>0.0</td>\n",
       "      <td>0.0</td>\n",
       "      <td>cw12wb12</td>\n",
       "      <td>topics-101-150</td>\n",
       "      <td>0.000000</td>\n",
       "      <td>0.000000</td>\n",
       "      <td>0.000000</td>\n",
       "      <td>0.00.00.0</td>\n",
       "    </tr>\n",
       "    <tr>\n",
       "      <th>1201</th>\n",
       "      <td>clueweb12_and_wayback12</td>\n",
       "      <td>0.0</td>\n",
       "      <td>0.0</td>\n",
       "      <td>0.0</td>\n",
       "      <td>cw12wb12</td>\n",
       "      <td>topics-51-100</td>\n",
       "      <td>0.000000</td>\n",
       "      <td>0.000000</td>\n",
       "      <td>0.000000</td>\n",
       "      <td>0.00.00.0</td>\n",
       "    </tr>\n",
       "    <tr>\n",
       "      <th>2497</th>\n",
       "      <td>clueweb12_and_wayback12</td>\n",
       "      <td>0.0</td>\n",
       "      <td>0.0</td>\n",
       "      <td>0.0</td>\n",
       "      <td>cw12wb12</td>\n",
       "      <td>topics-151-200</td>\n",
       "      <td>0.000000</td>\n",
       "      <td>0.000000</td>\n",
       "      <td>0.000000</td>\n",
       "      <td>0.00.00.0</td>\n",
       "    </tr>\n",
       "    <tr>\n",
       "      <th>2061</th>\n",
       "      <td>webis_warc_clueweb09_003</td>\n",
       "      <td>0.0</td>\n",
       "      <td>0.0</td>\n",
       "      <td>0.0</td>\n",
       "      <td>cw09</td>\n",
       "      <td>topics-151-200</td>\n",
       "      <td>0.000000</td>\n",
       "      <td>0.000000</td>\n",
       "      <td>0.000000</td>\n",
       "      <td>0.00.00.0</td>\n",
       "    </tr>\n",
       "  </tbody>\n",
       "</table>\n",
       "<p>4320 rows × 10 columns</p>\n",
       "</div>"
      ],
      "text/plain": [
       "                        collection body_lang.en title_lang.en  \\\n",
       "502        clueweb12_and_wayback12          1.0           1.0   \n",
       "2807      webis_warc_clueweb12_011          1.0           1.0   \n",
       "1398      webis_warc_clueweb09_003          1.0           1.0   \n",
       "2446       clueweb12_and_wayback12          1.0           1.0   \n",
       "3310  webis_warc_commoncrawl15_002          1.0           1.0   \n",
       "...                            ...          ...           ...   \n",
       "2691      webis_warc_clueweb12_011          0.0           0.0   \n",
       "1849       clueweb12_and_wayback12          0.0           0.0   \n",
       "1201       clueweb12_and_wayback12          0.0           0.0   \n",
       "2497       clueweb12_and_wayback12          0.0           0.0   \n",
       "2061      webis_warc_clueweb09_003          0.0           0.0   \n",
       "\n",
       "     meta_desc_lang.en    corpus          topics     bpref  pseudoNDCG@10  \\\n",
       "502                1.0  cw12wb12     topics-1-50  0.445783       0.472292   \n",
       "2807               1.0      cw12  topics-201-250  0.350840       0.341778   \n",
       "1398               1.0      cw09  topics-101-150  0.275651       0.287052   \n",
       "2446               1.0  cw12wb12  topics-151-200  0.309870       0.371314   \n",
       "3310               1.0      cc15   topics-51-100  0.364970       0.470172   \n",
       "...                ...       ...             ...       ...            ...   \n",
       "2691               0.0      cw12  topics-201-250  0.000000       0.000000   \n",
       "1849               0.0  cw12wb12  topics-101-150  0.000000       0.000000   \n",
       "1201               0.0  cw12wb12   topics-51-100  0.000000       0.000000   \n",
       "2497               0.0  cw12wb12  topics-151-200  0.000000       0.000000   \n",
       "2061               0.0      cw09  topics-151-200  0.000000       0.000000   \n",
       "\n",
       "      pseudoNDCG        tag  \n",
       "502     0.604790  1.01.01.0  \n",
       "2807    0.578638  1.01.01.0  \n",
       "1398    0.468339  1.01.01.0  \n",
       "2446    0.489354  1.01.01.0  \n",
       "3310    0.526436  1.01.01.0  \n",
       "...          ...        ...  \n",
       "2691    0.000000  0.00.00.0  \n",
       "1849    0.000000  0.00.00.0  \n",
       "1201    0.000000  0.00.00.0  \n",
       "2497    0.000000  0.00.00.0  \n",
       "2061    0.000000  0.00.00.0  \n",
       "\n",
       "[4320 rows x 10 columns]"
      ]
     },
     "execution_count": 5,
     "metadata": {},
     "output_type": "execute_result"
    }
   ],
   "source": [
    "topic_df"
   ]
  },
  {
   "cell_type": "code",
   "execution_count": 9,
   "metadata": {},
   "outputs": [
    {
     "data": {
      "text/plain": [
       "['1.01.01.0',\n",
       " '1.01.00.8',\n",
       " '1.01.00.6',\n",
       " '1.01.00.4',\n",
       " '1.01.00.2',\n",
       " '1.01.00.0',\n",
       " '1.00.81.0',\n",
       " '1.00.80.8',\n",
       " '1.00.80.6',\n",
       " '1.00.80.4',\n",
       " '1.00.80.2',\n",
       " '1.00.80.0',\n",
       " '1.00.61.0',\n",
       " '1.00.60.8',\n",
       " '1.00.60.6',\n",
       " '1.00.60.4',\n",
       " '1.00.60.2',\n",
       " '1.00.60.0',\n",
       " '1.00.41.0',\n",
       " '1.00.40.8',\n",
       " '1.00.40.6',\n",
       " '1.00.40.4',\n",
       " '1.00.40.2',\n",
       " '1.00.40.0',\n",
       " '1.00.21.0',\n",
       " '1.00.20.8',\n",
       " '1.00.20.6',\n",
       " '1.00.20.4',\n",
       " '1.00.20.2',\n",
       " '1.00.20.0',\n",
       " '1.00.01.0',\n",
       " '1.00.00.8',\n",
       " '1.00.00.6',\n",
       " '1.00.00.4',\n",
       " '1.00.00.2',\n",
       " '1.00.00.0',\n",
       " '0.81.01.0',\n",
       " '0.81.00.8',\n",
       " '0.81.00.6',\n",
       " '0.81.00.4',\n",
       " '0.81.00.2',\n",
       " '0.81.00.0',\n",
       " '0.80.81.0',\n",
       " '0.80.80.8',\n",
       " '0.80.80.6',\n",
       " '0.80.80.4',\n",
       " '0.80.80.2',\n",
       " '0.80.80.0',\n",
       " '0.80.61.0',\n",
       " '0.80.60.8',\n",
       " '0.80.60.6',\n",
       " '0.80.60.4',\n",
       " '0.80.60.2',\n",
       " '0.80.60.0',\n",
       " '0.80.41.0',\n",
       " '0.80.40.8',\n",
       " '0.80.40.6',\n",
       " '0.80.40.4',\n",
       " '0.80.40.2',\n",
       " '0.80.40.0',\n",
       " '0.80.21.0',\n",
       " '0.80.20.8',\n",
       " '0.80.20.6',\n",
       " '0.80.20.4',\n",
       " '0.80.20.2',\n",
       " '0.80.20.0',\n",
       " '0.80.01.0',\n",
       " '0.80.00.8',\n",
       " '0.80.00.6',\n",
       " '0.80.00.4',\n",
       " '0.80.00.2',\n",
       " '0.80.00.0',\n",
       " '0.61.01.0',\n",
       " '0.61.00.8',\n",
       " '0.61.00.6',\n",
       " '0.61.00.4',\n",
       " '0.61.00.2',\n",
       " '0.61.00.0',\n",
       " '0.60.81.0',\n",
       " '0.60.80.8',\n",
       " '0.60.80.6',\n",
       " '0.60.80.4',\n",
       " '0.60.80.2',\n",
       " '0.60.80.0',\n",
       " '0.60.61.0',\n",
       " '0.60.60.8',\n",
       " '0.60.60.6',\n",
       " '0.60.60.4',\n",
       " '0.60.60.2',\n",
       " '0.60.60.0',\n",
       " '0.60.41.0',\n",
       " '0.60.40.8',\n",
       " '0.60.40.6',\n",
       " '0.60.40.4',\n",
       " '0.60.40.2',\n",
       " '0.60.40.0',\n",
       " '0.60.21.0',\n",
       " '0.60.20.8',\n",
       " '0.60.20.6',\n",
       " '0.60.20.4',\n",
       " '0.60.20.2',\n",
       " '0.60.20.0',\n",
       " '0.60.01.0',\n",
       " '0.60.00.8',\n",
       " '0.60.00.6',\n",
       " '0.60.00.4',\n",
       " '0.60.00.2',\n",
       " '0.60.00.0',\n",
       " '0.41.01.0',\n",
       " '0.41.00.8',\n",
       " '0.41.00.6',\n",
       " '0.41.00.4',\n",
       " '0.41.00.2',\n",
       " '0.41.00.0',\n",
       " '0.40.81.0',\n",
       " '0.40.80.8',\n",
       " '0.40.80.6',\n",
       " '0.40.80.4',\n",
       " '0.40.80.2',\n",
       " '0.40.80.0',\n",
       " '0.40.61.0',\n",
       " '0.40.60.8',\n",
       " '0.40.60.6',\n",
       " '0.40.60.4',\n",
       " '0.40.60.2',\n",
       " '0.40.60.0',\n",
       " '0.40.41.0',\n",
       " '0.40.40.8',\n",
       " '0.40.40.6',\n",
       " '0.40.40.4',\n",
       " '0.40.40.2',\n",
       " '0.40.40.0',\n",
       " '0.40.21.0',\n",
       " '0.40.20.8',\n",
       " '0.40.20.6',\n",
       " '0.40.20.4',\n",
       " '0.40.20.2',\n",
       " '0.40.20.0',\n",
       " '0.40.01.0',\n",
       " '0.40.00.8',\n",
       " '0.40.00.6',\n",
       " '0.40.00.4',\n",
       " '0.40.00.2',\n",
       " '0.40.00.0',\n",
       " '0.21.01.0',\n",
       " '0.21.00.8',\n",
       " '0.21.00.6',\n",
       " '0.21.00.4',\n",
       " '0.21.00.2',\n",
       " '0.21.00.0',\n",
       " '0.20.81.0',\n",
       " '0.20.80.8',\n",
       " '0.20.80.6',\n",
       " '0.20.80.4',\n",
       " '0.20.80.2',\n",
       " '0.20.80.0',\n",
       " '0.20.61.0',\n",
       " '0.20.60.8',\n",
       " '0.20.60.6',\n",
       " '0.20.60.4',\n",
       " '0.20.60.2',\n",
       " '0.20.60.0',\n",
       " '0.20.41.0',\n",
       " '0.20.40.8',\n",
       " '0.20.40.6',\n",
       " '0.20.40.4',\n",
       " '0.20.40.2',\n",
       " '0.20.40.0',\n",
       " '0.20.21.0',\n",
       " '0.20.20.8',\n",
       " '0.20.20.6',\n",
       " '0.20.20.4',\n",
       " '0.20.20.2',\n",
       " '0.20.20.0',\n",
       " '0.20.01.0',\n",
       " '0.20.00.8',\n",
       " '0.20.00.6',\n",
       " '0.20.00.4',\n",
       " '0.20.00.2',\n",
       " '0.20.00.0',\n",
       " '0.01.01.0',\n",
       " '0.01.00.8',\n",
       " '0.01.00.6',\n",
       " '0.01.00.4',\n",
       " '0.01.00.2',\n",
       " '0.01.00.0',\n",
       " '0.00.81.0',\n",
       " '0.00.80.8',\n",
       " '0.00.80.6',\n",
       " '0.00.80.4',\n",
       " '0.00.80.2',\n",
       " '0.00.80.0',\n",
       " '0.00.61.0',\n",
       " '0.00.60.8',\n",
       " '0.00.60.6',\n",
       " '0.00.60.4',\n",
       " '0.00.60.2',\n",
       " '0.00.60.0',\n",
       " '0.00.41.0',\n",
       " '0.00.40.8',\n",
       " '0.00.40.6',\n",
       " '0.00.40.4',\n",
       " '0.00.40.2',\n",
       " '0.00.40.0',\n",
       " '0.00.21.0',\n",
       " '0.00.20.8',\n",
       " '0.00.20.6',\n",
       " '0.00.20.4',\n",
       " '0.00.20.2',\n",
       " '0.00.20.0',\n",
       " '0.00.01.0',\n",
       " '0.00.00.8',\n",
       " '0.00.00.6',\n",
       " '0.00.00.4',\n",
       " '0.00.00.2']"
      ]
     },
     "execution_count": 9,
     "metadata": {},
     "output_type": "execute_result"
    }
   ],
   "source": [
    "[i for i in query_dfs['cc15'][(query_dfs['cc15']['is_source_collection'] == True) & (query_dfs['cc15']['collection'] == 'source')].tag.unique()]"
   ]
  },
  {
   "cell_type": "markdown",
   "metadata": {},
   "source": [
    "# Sample Pairs\n",
    "\n",
    "- Load from file if exists, or calculate new pairs"
   ]
  },
  {
   "cell_type": "code",
   "execution_count": 20,
   "metadata": {},
   "outputs": [],
   "source": [
    "def position_pair(corpus, topics, measure, firstPos=None, secondPos=None):\n",
    "    df = performance_ranking_on_source(corpus, topics, measure)\n",
    "    tags = [i for i in df.keys()]\n",
    "    tags = sorted(tags, key=lambda i: df[i]['pos'], reverse=False)\n",
    "    \n",
    "    if firstPos == None:\n",
    "        firstPos = random.randrange(0, len(tags))\n",
    "    \n",
    "    if secondPos == None:\n",
    "        secondPos = random.randrange(0, len(tags))\n",
    "    \n",
    "    firstTag = tags[firstPos]\n",
    "    secondTag = tags[secondPos]\n",
    "    \n",
    "    if firstTag == secondTag:\n",
    "        return position_pair(corpus, topics, measure)\n",
    "    else:\n",
    "        first_topic_level_df = topics_to_performance_on_source_and_on_target_for_tag(corpus, firstTag, topics, measure)\n",
    "        first_topic_level_df['tag'] = firstTag\n",
    "        second_topic_level_df = topics_to_performance_on_source_and_on_target_for_tag(corpus, secondTag, topics, measure)\n",
    "        second_topic_level_df['tag'] = secondTag\n",
    "        \n",
    "        topic_level_df = pd.concat([first_topic_level_df, second_topic_level_df])\n",
    "        \n",
    "        if df[firstTag]['pos'] > df[secondTag]['pos']:\n",
    "            return calculate_position_pair(df, secondTag, firstTag, topic_level_df)\n",
    "        else:\n",
    "            return calculate_position_pair(df, firstTag, secondTag, topic_level_df)\n",
    "\n",
    "def calculate_position_pair(df, first, second, topic_level_df):\n",
    "    return {\n",
    "        'firstTag': first,\n",
    "        'sourceFirstPos': df[first]['pos'],\n",
    "        'sourceFirstScore': df[first]['measure'],\n",
    "        'sourceSecondPost': df[second]['pos'],\n",
    "        'sourceSecondTag': second,\n",
    "        'sourceSecondScore': df[second]['measure'],\n",
    "        'effectRatio': effect_ratio(df=topic_level_df, baseline=second, advanced=first),\n",
    "        'delta_relative_improvement': delta_relative_improvement(df=topic_level_df, baseline=second, advanced=first)\n",
    "    }\n",
    "    \n",
    "def topics_to_performance_on_source_and_on_target_for_tag(corpus, tag, topics, measure):\n",
    "    df = query_dfs[corpus]\n",
    "    df = df[df['tag'] == tag]\n",
    "    df = df[df['topic'].astype(int).isin(topics)].copy()\n",
    "    df['measure'] = df[measure]\n",
    "    \n",
    "    return df[['collection', 'topic', 'measure']].reset_index()\n",
    "\n",
    "def query_df_for_topic(corpus, topics):\n",
    "    df = query_dfs[corpus]\n",
    "    df = df[(df['topic'].astype(int).isin(topics))]\n",
    "    return build_topic_df(df, topics)\n",
    "\n",
    "def performance_ranking_on_source(corpus, topics, measure):\n",
    "    df = query_df_for_topic(corpus, topics)\n",
    "    df = df[(df['collection'] == 'source')]\n",
    "    df = df.sort_values(measure, ascending=False).reset_index()\n",
    "    return {i[1]['tag']: {'pos': i[0], 'measure': i[1][measure]} for i in df.iterrows()}"
   ]
  },
  {
   "cell_type": "code",
   "execution_count": 14,
   "metadata": {},
   "outputs": [
    {
     "data": {
      "text/html": [
       "<div>\n",
       "<style scoped>\n",
       "    .dataframe tbody tr th:only-of-type {\n",
       "        vertical-align: middle;\n",
       "    }\n",
       "\n",
       "    .dataframe tbody tr th {\n",
       "        vertical-align: top;\n",
       "    }\n",
       "\n",
       "    .dataframe thead th {\n",
       "        text-align: right;\n",
       "    }\n",
       "</style>\n",
       "<table border=\"1\" class=\"dataframe\">\n",
       "  <thead>\n",
       "    <tr style=\"text-align: right;\">\n",
       "      <th></th>\n",
       "      <th>collection</th>\n",
       "      <th>body_lang.en</th>\n",
       "      <th>title_lang.en</th>\n",
       "      <th>meta_desc_lang.en</th>\n",
       "      <th>corpus</th>\n",
       "      <th>bpref</th>\n",
       "      <th>pseudoNDCG@10</th>\n",
       "      <th>pseudoNDCG</th>\n",
       "      <th>tag</th>\n",
       "    </tr>\n",
       "  </thead>\n",
       "  <tbody>\n",
       "    <tr>\n",
       "      <th>429</th>\n",
       "      <td>webis_warc_commoncrawl15_002</td>\n",
       "      <td>1.0</td>\n",
       "      <td>1.0</td>\n",
       "      <td>1.0</td>\n",
       "      <td>cc15</td>\n",
       "      <td>0.445148</td>\n",
       "      <td>0.620208</td>\n",
       "      <td>0.687350</td>\n",
       "      <td>1.01.01.0</td>\n",
       "    </tr>\n",
       "    <tr>\n",
       "      <th>214</th>\n",
       "      <td>source</td>\n",
       "      <td>1.0</td>\n",
       "      <td>1.0</td>\n",
       "      <td>1.0</td>\n",
       "      <td>source</td>\n",
       "      <td>0.287577</td>\n",
       "      <td>0.229887</td>\n",
       "      <td>0.587927</td>\n",
       "      <td>1.01.01.0</td>\n",
       "    </tr>\n",
       "    <tr>\n",
       "      <th>213</th>\n",
       "      <td>source</td>\n",
       "      <td>1.0</td>\n",
       "      <td>1.0</td>\n",
       "      <td>0.8</td>\n",
       "      <td>source</td>\n",
       "      <td>0.294400</td>\n",
       "      <td>0.245944</td>\n",
       "      <td>0.589603</td>\n",
       "      <td>1.01.00.8</td>\n",
       "    </tr>\n",
       "    <tr>\n",
       "      <th>428</th>\n",
       "      <td>webis_warc_commoncrawl15_002</td>\n",
       "      <td>1.0</td>\n",
       "      <td>1.0</td>\n",
       "      <td>0.8</td>\n",
       "      <td>cc15</td>\n",
       "      <td>0.469490</td>\n",
       "      <td>0.654750</td>\n",
       "      <td>0.721659</td>\n",
       "      <td>1.01.00.8</td>\n",
       "    </tr>\n",
       "    <tr>\n",
       "      <th>212</th>\n",
       "      <td>source</td>\n",
       "      <td>1.0</td>\n",
       "      <td>1.0</td>\n",
       "      <td>0.6</td>\n",
       "      <td>source</td>\n",
       "      <td>0.301634</td>\n",
       "      <td>0.251413</td>\n",
       "      <td>0.593319</td>\n",
       "      <td>1.01.00.6</td>\n",
       "    </tr>\n",
       "    <tr>\n",
       "      <th>...</th>\n",
       "      <td>...</td>\n",
       "      <td>...</td>\n",
       "      <td>...</td>\n",
       "      <td>...</td>\n",
       "      <td>...</td>\n",
       "      <td>...</td>\n",
       "      <td>...</td>\n",
       "      <td>...</td>\n",
       "      <td>...</td>\n",
       "    </tr>\n",
       "    <tr>\n",
       "      <th>217</th>\n",
       "      <td>webis_warc_commoncrawl15_002</td>\n",
       "      <td>0.0</td>\n",
       "      <td>0.0</td>\n",
       "      <td>0.6</td>\n",
       "      <td>cc15</td>\n",
       "      <td>0.211302</td>\n",
       "      <td>0.275214</td>\n",
       "      <td>0.268169</td>\n",
       "      <td>0.00.00.6</td>\n",
       "    </tr>\n",
       "    <tr>\n",
       "      <th>216</th>\n",
       "      <td>webis_warc_commoncrawl15_002</td>\n",
       "      <td>0.0</td>\n",
       "      <td>0.0</td>\n",
       "      <td>0.4</td>\n",
       "      <td>cc15</td>\n",
       "      <td>0.211302</td>\n",
       "      <td>0.275214</td>\n",
       "      <td>0.268169</td>\n",
       "      <td>0.00.00.4</td>\n",
       "    </tr>\n",
       "    <tr>\n",
       "      <th>1</th>\n",
       "      <td>source</td>\n",
       "      <td>0.0</td>\n",
       "      <td>0.0</td>\n",
       "      <td>0.4</td>\n",
       "      <td>source</td>\n",
       "      <td>0.147564</td>\n",
       "      <td>0.248800</td>\n",
       "      <td>0.214156</td>\n",
       "      <td>0.00.00.4</td>\n",
       "    </tr>\n",
       "    <tr>\n",
       "      <th>0</th>\n",
       "      <td>source</td>\n",
       "      <td>0.0</td>\n",
       "      <td>0.0</td>\n",
       "      <td>0.2</td>\n",
       "      <td>source</td>\n",
       "      <td>0.147564</td>\n",
       "      <td>0.248800</td>\n",
       "      <td>0.214156</td>\n",
       "      <td>0.00.00.2</td>\n",
       "    </tr>\n",
       "    <tr>\n",
       "      <th>215</th>\n",
       "      <td>webis_warc_commoncrawl15_002</td>\n",
       "      <td>0.0</td>\n",
       "      <td>0.0</td>\n",
       "      <td>0.2</td>\n",
       "      <td>cc15</td>\n",
       "      <td>0.211302</td>\n",
       "      <td>0.275214</td>\n",
       "      <td>0.268169</td>\n",
       "      <td>0.00.00.2</td>\n",
       "    </tr>\n",
       "  </tbody>\n",
       "</table>\n",
       "<p>430 rows × 9 columns</p>\n",
       "</div>"
      ],
      "text/plain": [
       "                       collection body_lang.en title_lang.en  \\\n",
       "429  webis_warc_commoncrawl15_002          1.0           1.0   \n",
       "214                        source          1.0           1.0   \n",
       "213                        source          1.0           1.0   \n",
       "428  webis_warc_commoncrawl15_002          1.0           1.0   \n",
       "212                        source          1.0           1.0   \n",
       "..                            ...          ...           ...   \n",
       "217  webis_warc_commoncrawl15_002          0.0           0.0   \n",
       "216  webis_warc_commoncrawl15_002          0.0           0.0   \n",
       "1                          source          0.0           0.0   \n",
       "0                          source          0.0           0.0   \n",
       "215  webis_warc_commoncrawl15_002          0.0           0.0   \n",
       "\n",
       "    meta_desc_lang.en  corpus     bpref  pseudoNDCG@10  pseudoNDCG        tag  \n",
       "429               1.0    cc15  0.445148       0.620208    0.687350  1.01.01.0  \n",
       "214               1.0  source  0.287577       0.229887    0.587927  1.01.01.0  \n",
       "213               0.8  source  0.294400       0.245944    0.589603  1.01.00.8  \n",
       "428               0.8    cc15  0.469490       0.654750    0.721659  1.01.00.8  \n",
       "212               0.6  source  0.301634       0.251413    0.593319  1.01.00.6  \n",
       "..                ...     ...       ...            ...         ...        ...  \n",
       "217               0.6    cc15  0.211302       0.275214    0.268169  0.00.00.6  \n",
       "216               0.4    cc15  0.211302       0.275214    0.268169  0.00.00.4  \n",
       "1                 0.4  source  0.147564       0.248800    0.214156  0.00.00.4  \n",
       "0                 0.2  source  0.147564       0.248800    0.214156  0.00.00.2  \n",
       "215               0.2    cc15  0.211302       0.275214    0.268169  0.00.00.2  \n",
       "\n",
       "[430 rows x 9 columns]"
      ]
     },
     "execution_count": 14,
     "metadata": {},
     "output_type": "execute_result"
    }
   ],
   "source": [
    "query_df_for_topic('cc15', range(0,50))"
   ]
  },
  {
   "cell_type": "code",
   "execution_count": 21,
   "metadata": {},
   "outputs": [
    {
     "data": {
      "text/html": [
       "<div>\n",
       "<style scoped>\n",
       "    .dataframe tbody tr th:only-of-type {\n",
       "        vertical-align: middle;\n",
       "    }\n",
       "\n",
       "    .dataframe tbody tr th {\n",
       "        vertical-align: top;\n",
       "    }\n",
       "\n",
       "    .dataframe thead th {\n",
       "        text-align: right;\n",
       "    }\n",
       "</style>\n",
       "<table border=\"1\" class=\"dataframe\">\n",
       "  <thead>\n",
       "    <tr style=\"text-align: right;\">\n",
       "      <th></th>\n",
       "      <th>index</th>\n",
       "      <th>collection</th>\n",
       "      <th>body_lang.en</th>\n",
       "      <th>title_lang.en</th>\n",
       "      <th>meta_desc_lang.en</th>\n",
       "      <th>corpus</th>\n",
       "      <th>bpref</th>\n",
       "      <th>pseudoNDCG@10</th>\n",
       "      <th>pseudoNDCG</th>\n",
       "      <th>tag</th>\n",
       "    </tr>\n",
       "  </thead>\n",
       "  <tbody>\n",
       "    <tr>\n",
       "      <th>0</th>\n",
       "      <td>149</td>\n",
       "      <td>source</td>\n",
       "      <td>0.8</td>\n",
       "      <td>0.2</td>\n",
       "      <td>0.0</td>\n",
       "      <td>source</td>\n",
       "      <td>0.334591</td>\n",
       "      <td>0.332952</td>\n",
       "      <td>0.627283</td>\n",
       "      <td>0.80.20.0</td>\n",
       "    </tr>\n",
       "    <tr>\n",
       "      <th>1</th>\n",
       "      <td>185</td>\n",
       "      <td>source</td>\n",
       "      <td>1.0</td>\n",
       "      <td>0.2</td>\n",
       "      <td>0.0</td>\n",
       "      <td>source</td>\n",
       "      <td>0.333549</td>\n",
       "      <td>0.352994</td>\n",
       "      <td>0.626348</td>\n",
       "      <td>1.00.20.0</td>\n",
       "    </tr>\n",
       "    <tr>\n",
       "      <th>2</th>\n",
       "      <td>203</td>\n",
       "      <td>source</td>\n",
       "      <td>1.0</td>\n",
       "      <td>0.8</td>\n",
       "      <td>0.0</td>\n",
       "      <td>source</td>\n",
       "      <td>0.334874</td>\n",
       "      <td>0.322741</td>\n",
       "      <td>0.622779</td>\n",
       "      <td>1.00.80.0</td>\n",
       "    </tr>\n",
       "    <tr>\n",
       "      <th>3</th>\n",
       "      <td>77</td>\n",
       "      <td>source</td>\n",
       "      <td>0.4</td>\n",
       "      <td>0.2</td>\n",
       "      <td>0.0</td>\n",
       "      <td>source</td>\n",
       "      <td>0.335073</td>\n",
       "      <td>0.318302</td>\n",
       "      <td>0.622776</td>\n",
       "      <td>0.40.20.0</td>\n",
       "    </tr>\n",
       "    <tr>\n",
       "      <th>4</th>\n",
       "      <td>155</td>\n",
       "      <td>source</td>\n",
       "      <td>0.8</td>\n",
       "      <td>0.4</td>\n",
       "      <td>0.0</td>\n",
       "      <td>source</td>\n",
       "      <td>0.335073</td>\n",
       "      <td>0.318302</td>\n",
       "      <td>0.622776</td>\n",
       "      <td>0.80.40.0</td>\n",
       "    </tr>\n",
       "    <tr>\n",
       "      <th>...</th>\n",
       "      <td>...</td>\n",
       "      <td>...</td>\n",
       "      <td>...</td>\n",
       "      <td>...</td>\n",
       "      <td>...</td>\n",
       "      <td>...</td>\n",
       "      <td>...</td>\n",
       "      <td>...</td>\n",
       "      <td>...</td>\n",
       "      <td>...</td>\n",
       "    </tr>\n",
       "    <tr>\n",
       "      <th>210</th>\n",
       "      <td>4</td>\n",
       "      <td>source</td>\n",
       "      <td>0.0</td>\n",
       "      <td>0.0</td>\n",
       "      <td>1.0</td>\n",
       "      <td>source</td>\n",
       "      <td>0.147564</td>\n",
       "      <td>0.248800</td>\n",
       "      <td>0.214156</td>\n",
       "      <td>0.00.01.0</td>\n",
       "    </tr>\n",
       "    <tr>\n",
       "      <th>211</th>\n",
       "      <td>3</td>\n",
       "      <td>source</td>\n",
       "      <td>0.0</td>\n",
       "      <td>0.0</td>\n",
       "      <td>0.8</td>\n",
       "      <td>source</td>\n",
       "      <td>0.147564</td>\n",
       "      <td>0.248800</td>\n",
       "      <td>0.214156</td>\n",
       "      <td>0.00.00.8</td>\n",
       "    </tr>\n",
       "    <tr>\n",
       "      <th>212</th>\n",
       "      <td>2</td>\n",
       "      <td>source</td>\n",
       "      <td>0.0</td>\n",
       "      <td>0.0</td>\n",
       "      <td>0.6</td>\n",
       "      <td>source</td>\n",
       "      <td>0.147564</td>\n",
       "      <td>0.248800</td>\n",
       "      <td>0.214156</td>\n",
       "      <td>0.00.00.6</td>\n",
       "    </tr>\n",
       "    <tr>\n",
       "      <th>213</th>\n",
       "      <td>1</td>\n",
       "      <td>source</td>\n",
       "      <td>0.0</td>\n",
       "      <td>0.0</td>\n",
       "      <td>0.4</td>\n",
       "      <td>source</td>\n",
       "      <td>0.147564</td>\n",
       "      <td>0.248800</td>\n",
       "      <td>0.214156</td>\n",
       "      <td>0.00.00.4</td>\n",
       "    </tr>\n",
       "    <tr>\n",
       "      <th>214</th>\n",
       "      <td>0</td>\n",
       "      <td>source</td>\n",
       "      <td>0.0</td>\n",
       "      <td>0.0</td>\n",
       "      <td>0.2</td>\n",
       "      <td>source</td>\n",
       "      <td>0.147564</td>\n",
       "      <td>0.248800</td>\n",
       "      <td>0.214156</td>\n",
       "      <td>0.00.00.2</td>\n",
       "    </tr>\n",
       "  </tbody>\n",
       "</table>\n",
       "<p>215 rows × 10 columns</p>\n",
       "</div>"
      ],
      "text/plain": [
       "     index collection body_lang.en title_lang.en meta_desc_lang.en  corpus  \\\n",
       "0      149     source          0.8           0.2               0.0  source   \n",
       "1      185     source          1.0           0.2               0.0  source   \n",
       "2      203     source          1.0           0.8               0.0  source   \n",
       "3       77     source          0.4           0.2               0.0  source   \n",
       "4      155     source          0.8           0.4               0.0  source   \n",
       "..     ...        ...          ...           ...               ...     ...   \n",
       "210      4     source          0.0           0.0               1.0  source   \n",
       "211      3     source          0.0           0.0               0.8  source   \n",
       "212      2     source          0.0           0.0               0.6  source   \n",
       "213      1     source          0.0           0.0               0.4  source   \n",
       "214      0     source          0.0           0.0               0.2  source   \n",
       "\n",
       "        bpref  pseudoNDCG@10  pseudoNDCG        tag  \n",
       "0    0.334591       0.332952    0.627283  0.80.20.0  \n",
       "1    0.333549       0.352994    0.626348  1.00.20.0  \n",
       "2    0.334874       0.322741    0.622779  1.00.80.0  \n",
       "3    0.335073       0.318302    0.622776  0.40.20.0  \n",
       "4    0.335073       0.318302    0.622776  0.80.40.0  \n",
       "..        ...            ...         ...        ...  \n",
       "210  0.147564       0.248800    0.214156  0.00.01.0  \n",
       "211  0.147564       0.248800    0.214156  0.00.00.8  \n",
       "212  0.147564       0.248800    0.214156  0.00.00.6  \n",
       "213  0.147564       0.248800    0.214156  0.00.00.4  \n",
       "214  0.147564       0.248800    0.214156  0.00.00.2  \n",
       "\n",
       "[215 rows x 10 columns]"
      ]
     },
     "execution_count": 21,
     "metadata": {},
     "output_type": "execute_result"
    }
   ],
   "source": [
    "performance_ranking_on_source('cc15', range(0,50), 'pseudoNDCG')"
   ]
  },
  {
   "cell_type": "code",
   "execution_count": 26,
   "metadata": {},
   "outputs": [
    {
     "data": {
      "text/plain": [
       "{'0.80.20.0': {'pos': 0, 'measure': 0.6272834450859306},\n",
       " '1.00.20.0': {'pos': 1, 'measure': 0.6263484061190312},\n",
       " '1.00.80.0': {'pos': 2, 'measure': 0.6227788797816403},\n",
       " '0.40.20.0': {'pos': 3, 'measure': 0.6227760584885889},\n",
       " '0.80.40.0': {'pos': 4, 'measure': 0.6227760584885887},\n",
       " '1.00.40.0': {'pos': 5, 'measure': 0.62276308964051},\n",
       " '0.60.20.0': {'pos': 6, 'measure': 0.6227607987677791},\n",
       " '0.80.60.0': {'pos': 7, 'measure': 0.6222375525914834},\n",
       " '1.01.00.0': {'pos': 8, 'measure': 0.622009397267328},\n",
       " '0.40.40.0': {'pos': 9, 'measure': 0.622009397267328},\n",
       " '0.20.20.0': {'pos': 10, 'measure': 0.622009397267328},\n",
       " '0.80.80.0': {'pos': 11, 'measure': 0.622009397267328},\n",
       " '0.60.60.0': {'pos': 12, 'measure': 0.6220093972673278},\n",
       " '1.00.60.0': {'pos': 13, 'measure': 0.621282225061434},\n",
       " '0.60.40.0': {'pos': 14, 'measure': 0.6210745873790533},\n",
       " '0.81.00.0': {'pos': 15, 'measure': 0.6203828690436336},\n",
       " '0.60.80.0': {'pos': 16, 'measure': 0.6198693468173402},\n",
       " '0.40.60.0': {'pos': 17, 'measure': 0.6194923901657835},\n",
       " '0.61.00.0': {'pos': 18, 'measure': 0.6184529168501808},\n",
       " '0.20.40.0': {'pos': 19, 'measure': 0.6167862250131881},\n",
       " '0.40.80.0': {'pos': 20, 'measure': 0.616786225013188},\n",
       " '0.41.00.0': {'pos': 21, 'measure': 0.6133013327230018},\n",
       " '0.20.60.0': {'pos': 22, 'measure': 0.612896728119296},\n",
       " '1.01.00.2': {'pos': 23, 'measure': 0.6121100596363384},\n",
       " '1.00.80.2': {'pos': 24, 'measure': 0.6119940596033138},\n",
       " '0.20.80.0': {'pos': 25, 'measure': 0.6115840743570087},\n",
       " '0.80.80.2': {'pos': 26, 'measure': 0.6102245475432378},\n",
       " '0.81.00.2': {'pos': 27, 'measure': 0.6099066170296227},\n",
       " '0.21.00.0': {'pos': 28, 'measure': 0.6093865701611728},\n",
       " '0.60.80.2': {'pos': 29, 'measure': 0.6080665027458475},\n",
       " '0.61.00.2': {'pos': 30, 'measure': 0.6078541264476198},\n",
       " '1.00.40.2': {'pos': 31, 'measure': 0.6073218813833322},\n",
       " '0.20.00.0': {'pos': 32, 'measure': 0.6072976772143087},\n",
       " '0.80.00.0': {'pos': 33, 'measure': 0.6072976772143087},\n",
       " '0.60.00.0': {'pos': 34, 'measure': 0.6072976772143086},\n",
       " '0.40.00.0': {'pos': 35, 'measure': 0.6072976772143086},\n",
       " '1.00.00.0': {'pos': 36, 'measure': 0.6072976772143086},\n",
       " '1.00.60.2': {'pos': 37, 'measure': 0.6060732304317377},\n",
       " '0.40.80.2': {'pos': 38, 'measure': 0.6055273202723194},\n",
       " '0.60.60.2': {'pos': 39, 'measure': 0.6046961090732955},\n",
       " '0.41.00.2': {'pos': 40, 'measure': 0.6044780251740776},\n",
       " '0.80.40.2': {'pos': 41, 'measure': 0.6035906288998544},\n",
       " '0.80.60.2': {'pos': 42, 'measure': 0.6034987811871495},\n",
       " '0.21.00.2': {'pos': 43, 'measure': 0.602879836930004},\n",
       " '1.01.00.4': {'pos': 44, 'measure': 0.6016465638769687},\n",
       " '0.20.80.2': {'pos': 45, 'measure': 0.6015134440840235},\n",
       " '0.60.40.2': {'pos': 46, 'measure': 0.6007766711917589},\n",
       " '1.00.80.4': {'pos': 47, 'measure': 0.5999243363898777},\n",
       " '0.40.60.2': {'pos': 48, 'measure': 0.5996155145773684},\n",
       " '0.80.20.2': {'pos': 49, 'measure': 0.5988805443869519},\n",
       " '1.00.60.4': {'pos': 50, 'measure': 0.5988674393325333},\n",
       " '1.00.20.2': {'pos': 51, 'measure': 0.5987465514910576},\n",
       " '0.81.00.4': {'pos': 52, 'measure': 0.5979650449513415},\n",
       " '0.60.20.2': {'pos': 53, 'measure': 0.5972886373382029},\n",
       " '1.00.40.4': {'pos': 54, 'measure': 0.5966958359125738},\n",
       " '0.80.60.4': {'pos': 55, 'measure': 0.5966824873103584},\n",
       " '0.40.40.2': {'pos': 56, 'measure': 0.5959158325736884},\n",
       " '0.80.80.4': {'pos': 57, 'measure': 0.5959158325736884},\n",
       " '0.40.20.2': {'pos': 58, 'measure': 0.5955837876346665},\n",
       " '0.80.40.4': {'pos': 59, 'measure': 0.5955837876346665},\n",
       " '0.61.00.4': {'pos': 60, 'measure': 0.5955607126591859},\n",
       " '0.20.60.2': {'pos': 61, 'measure': 0.5949522648130038},\n",
       " '1.00.80.6': {'pos': 62, 'measure': 0.5947104843587939},\n",
       " '0.60.80.4': {'pos': 63, 'measure': 0.5933771006816453},\n",
       " '1.01.00.6': {'pos': 64, 'measure': 0.593319492865046},\n",
       " '0.41.00.4': {'pos': 65, 'measure': 0.5930940589258452},\n",
       " '1.00.60.6': {'pos': 66, 'measure': 0.5929492820480697},\n",
       " '0.60.40.4': {'pos': 67, 'measure': 0.5919543464876637},\n",
       " '0.40.80.4': {'pos': 68, 'measure': 0.5919288413687785},\n",
       " '0.20.40.2': {'pos': 69, 'measure': 0.5919288413687783},\n",
       " '0.60.60.4': {'pos': 70, 'measure': 0.5917172641218471},\n",
       " '1.00.00.2': {'pos': 71, 'measure': 0.5912597178679921},\n",
       " '0.81.00.6': {'pos': 72, 'measure': 0.5911712416532293},\n",
       " '0.21.00.4': {'pos': 73, 'measure': 0.5908109796389073},\n",
       " '0.60.80.6': {'pos': 74, 'measure': 0.5906201818578478},\n",
       " '1.00.40.6': {'pos': 75, 'measure': 0.590510397836939},\n",
       " '0.80.80.6': {'pos': 76, 'measure': 0.5902618939694194},\n",
       " '0.61.00.6': {'pos': 77, 'measure': 0.5902231035201497},\n",
       " '0.81.00.8': {'pos': 78, 'measure': 0.5901811428746162},\n",
       " '1.01.00.8': {'pos': 79, 'measure': 0.5896025035615222},\n",
       " '0.80.40.6': {'pos': 80, 'measure': 0.5894559854653442},\n",
       " '1.00.20.4': {'pos': 81, 'measure': 0.5888564042366808},\n",
       " '0.40.60.4': {'pos': 82, 'measure': 0.5886613967565629},\n",
       " '0.61.00.8': {'pos': 83, 'measure': 0.5884741376149473},\n",
       " '0.80.60.6': {'pos': 84, 'measure': 0.5882391535766835},\n",
       " '0.41.00.6': {'pos': 85, 'measure': 0.5881383882832515},\n",
       " '0.20.20.2': {'pos': 86, 'measure': 0.587926778240064},\n",
       " '0.40.40.4': {'pos': 87, 'measure': 0.5879267782400639},\n",
       " '1.01.01.0': {'pos': 88, 'measure': 0.5879267782400639},\n",
       " '0.60.60.6': {'pos': 89, 'measure': 0.5879267782400639},\n",
       " '0.80.80.8': {'pos': 90, 'measure': 0.5879267782400639},\n",
       " '1.00.80.8': {'pos': 91, 'measure': 0.5874871870880337},\n",
       " '0.40.80.6': {'pos': 92, 'measure': 0.5874464603440948},\n",
       " '1.00.60.8': {'pos': 93, 'measure': 0.5874304938498685},\n",
       " '0.20.80.4': {'pos': 94, 'measure': 0.5872268602382991},\n",
       " '0.81.01.0': {'pos': 95, 'measure': 0.5872065778084067},\n",
       " '0.60.80.8': {'pos': 96, 'measure': 0.5871392001162679},\n",
       " '0.80.00.2': {'pos': 97, 'measure': 0.5869822114340182},\n",
       " '0.80.20.4': {'pos': 98, 'measure': 0.5865249963928915},\n",
       " '0.40.60.6': {'pos': 99, 'measure': 0.5861640520803255},\n",
       " '1.00.81.0': {'pos': 100, 'measure': 0.585793605664642},\n",
       " '1.00.40.8': {'pos': 101, 'measure': 0.5856103767807054},\n",
       " '0.80.60.8': {'pos': 102, 'measure': 0.5854436081617547},\n",
       " '0.80.81.0': {'pos': 103, 'measure': 0.5851002331930073},\n",
       " '0.21.00.6': {'pos': 104, 'measure': 0.5848725788078581},\n",
       " '1.00.00.4': {'pos': 105, 'measure': 0.584870463670325},\n",
       " '0.60.20.4': {'pos': 106, 'measure': 0.5848640387832256},\n",
       " '0.60.60.8': {'pos': 107, 'measure': 0.5847071595718702},\n",
       " '0.60.00.2': {'pos': 108, 'measure': 0.5846595383626734},\n",
       " '0.20.60.4': {'pos': 109, 'measure': 0.5846207071154488},\n",
       " '0.60.40.6': {'pos': 110, 'measure': 0.5846041096787659},\n",
       " '0.61.01.0': {'pos': 111, 'measure': 0.5839311936796552},\n",
       " '1.00.20.6': {'pos': 112, 'measure': 0.5836683963903432},\n",
       " '1.00.61.0': {'pos': 113, 'measure': 0.5836114187382363},\n",
       " '0.40.40.6': {'pos': 114, 'measure': 0.5829998239290849},\n",
       " '0.41.00.8': {'pos': 115, 'measure': 0.5829705562599254},\n",
       " '0.60.81.0': {'pos': 116, 'measure': 0.5827446787932348},\n",
       " '0.40.80.8': {'pos': 117, 'measure': 0.582727771607925},\n",
       " '0.20.40.4': {'pos': 118, 'measure': 0.5827277716079249},\n",
       " '0.80.61.0': {'pos': 119, 'measure': 0.5824486766725939},\n",
       " '0.80.20.6': {'pos': 120, 'measure': 0.5823927502280516},\n",
       " '0.21.00.8': {'pos': 121, 'measure': 0.5818805507338506},\n",
       " '0.40.00.2': {'pos': 122, 'measure': 0.581602828947063},\n",
       " '0.80.00.4': {'pos': 123, 'measure': 0.581602828947063},\n",
       " '1.00.20.8': {'pos': 124, 'measure': 0.5815936620842577},\n",
       " '0.21.01.0': {'pos': 125, 'measure': 0.581590021882536},\n",
       " '0.20.80.6': {'pos': 126, 'measure': 0.5810574686689406},\n",
       " '0.40.20.4': {'pos': 127, 'measure': 0.5808366177499408},\n",
       " '0.80.40.8': {'pos': 128, 'measure': 0.5808366177499407},\n",
       " '0.60.40.8': {'pos': 129, 'measure': 0.5808081279911949},\n",
       " '0.40.60.8': {'pos': 130, 'measure': 0.5807060848221876},\n",
       " '0.80.00.6': {'pos': 131, 'measure': 0.5806792124211207},\n",
       " '1.00.00.6': {'pos': 132, 'measure': 0.5803107789651065},\n",
       " '0.41.01.0': {'pos': 133, 'measure': 0.580183026073825},\n",
       " '1.00.00.8': {'pos': 134, 'measure': 0.5799912112448273},\n",
       " '0.40.81.0': {'pos': 135, 'measure': 0.5797592902742759},\n",
       " '0.60.61.0': {'pos': 136, 'measure': 0.5796738926939045},\n",
       " '1.00.21.0': {'pos': 137, 'measure': 0.5796144575732985},\n",
       " '1.00.41.0': {'pos': 138, 'measure': 0.5793807591368277},\n",
       " '0.80.20.8': {'pos': 139, 'measure': 0.5793450862416436},\n",
       " '0.60.20.6': {'pos': 140, 'measure': 0.579287924648967},\n",
       " '0.20.60.6': {'pos': 141, 'measure': 0.5790510868239697},\n",
       " '0.20.80.8': {'pos': 142, 'measure': 0.5786464483732987},\n",
       " '0.60.00.4': {'pos': 143, 'measure': 0.5785128405822612},\n",
       " '0.20.81.0': {'pos': 144, 'measure': 0.5783036365651097},\n",
       " '0.60.00.6': {'pos': 145, 'measure': 0.5781622172177823},\n",
       " '1.00.01.0': {'pos': 146, 'measure': 0.5781622172177822},\n",
       " '0.40.00.4': {'pos': 147, 'measure': 0.5781622172177822},\n",
       " '0.80.00.8': {'pos': 148, 'measure': 0.5781622172177822},\n",
       " '0.20.00.2': {'pos': 149, 'measure': 0.5781622172177822},\n",
       " '0.80.41.0': {'pos': 150, 'measure': 0.5777869874107219},\n",
       " '0.20.20.6': {'pos': 151, 'measure': 0.5771783951198746},\n",
       " '0.20.60.8': {'pos': 152, 'measure': 0.5767444695333093},\n",
       " '0.60.00.8': {'pos': 153, 'measure': 0.576712152513513},\n",
       " '0.40.40.8': {'pos': 154, 'measure': 0.5766035396041038},\n",
       " '0.20.20.4': {'pos': 155, 'measure': 0.5766035396041038},\n",
       " '0.60.20.8': {'pos': 156, 'measure': 0.5765427982606088},\n",
       " '0.80.01.0': {'pos': 157, 'measure': 0.5765345292732582},\n",
       " '0.20.40.6': {'pos': 158, 'measure': 0.576109764286652},\n",
       " '0.40.61.0': {'pos': 159, 'measure': 0.5759987983729242},\n",
       " '0.20.41.0': {'pos': 160, 'measure': 0.5758380489802657},\n",
       " '0.80.21.0': {'pos': 161, 'measure': 0.5757245367484554},\n",
       " '0.40.00.6': {'pos': 162, 'measure': 0.5754907675942944},\n",
       " '0.60.41.0': {'pos': 163, 'measure': 0.5752952832305415},\n",
       " '0.40.20.6': {'pos': 164, 'measure': 0.5751899868529836},\n",
       " '0.20.61.0': {'pos': 165, 'measure': 0.5750249211410008},\n",
       " '0.40.21.0': {'pos': 166, 'measure': 0.5745179143923711},\n",
       " '0.40.41.0': {'pos': 167, 'measure': 0.5739863065508587},\n",
       " '0.60.21.0': {'pos': 168, 'measure': 0.5734108182367209},\n",
       " '0.20.20.8': {'pos': 169, 'measure': 0.5731968577909741},\n",
       " '0.40.20.8': {'pos': 170, 'measure': 0.5731888411626458},\n",
       " '0.20.40.8': {'pos': 171, 'measure': 0.5724023043780927},\n",
       " '0.20.21.0': {'pos': 172, 'measure': 0.5722669807722397},\n",
       " '0.20.00.4': {'pos': 173, 'measure': 0.571952035290317},\n",
       " '0.40.00.8': {'pos': 174, 'measure': 0.571952035290317},\n",
       " '0.20.00.8': {'pos': 175, 'measure': 0.5712856165693295},\n",
       " '0.20.01.0': {'pos': 176, 'measure': 0.5711634267593582},\n",
       " '0.60.01.0': {'pos': 177, 'measure': 0.5710591299322155},\n",
       " '0.20.00.6': {'pos': 178, 'measure': 0.5704369188801167},\n",
       " '0.40.01.0': {'pos': 179, 'measure': 0.5703788741716723},\n",
       " '0.01.00.2': {'pos': 180, 'measure': 0.4819926537563143},\n",
       " '0.00.80.2': {'pos': 181, 'measure': 0.4801409853686496},\n",
       " '0.01.00.0': {'pos': 182, 'measure': 0.4790519259498158},\n",
       " '0.00.40.0': {'pos': 183, 'measure': 0.47905192594981577},\n",
       " '0.00.80.0': {'pos': 184, 'measure': 0.47905192594981577},\n",
       " '0.00.60.0': {'pos': 185, 'measure': 0.47905192594981577},\n",
       " '0.00.20.0': {'pos': 186, 'measure': 0.47905192594981566},\n",
       " '0.00.60.2': {'pos': 187, 'measure': 0.4757512506584178},\n",
       " '0.01.00.4': {'pos': 188, 'measure': 0.473297001096412},\n",
       " '0.00.40.2': {'pos': 189, 'measure': 0.46919623161281687},\n",
       " '0.00.80.4': {'pos': 190, 'measure': 0.46919623161281687},\n",
       " '0.01.00.6': {'pos': 191, 'measure': 0.4670086651871792},\n",
       " '0.00.60.4': {'pos': 192, 'measure': 0.4664217950423431},\n",
       " '0.00.80.6': {'pos': 193, 'measure': 0.4663793370204745},\n",
       " '0.01.00.8': {'pos': 194, 'measure': 0.4656183587706465},\n",
       " '0.00.40.4': {'pos': 195, 'measure': 0.4637010381265343},\n",
       " '0.00.60.6': {'pos': 196, 'measure': 0.46370103812653424},\n",
       " '0.01.01.0': {'pos': 197, 'measure': 0.46370103812653424},\n",
       " '0.00.80.8': {'pos': 198, 'measure': 0.46370103812653424},\n",
       " '0.00.20.2': {'pos': 199, 'measure': 0.46370103812653424},\n",
       " '0.00.81.0': {'pos': 200, 'measure': 0.4613910709227339},\n",
       " '0.00.60.8': {'pos': 201, 'measure': 0.46111439405131854},\n",
       " '0.00.40.6': {'pos': 202, 'measure': 0.46034383410508856},\n",
       " '0.00.61.0': {'pos': 203, 'measure': 0.4594674504054104},\n",
       " '0.00.20.4': {'pos': 204, 'measure': 0.45658145931638905},\n",
       " '0.00.40.8': {'pos': 205, 'measure': 0.45658145931638905},\n",
       " '0.00.41.0': {'pos': 206, 'measure': 0.4560593670572084},\n",
       " '0.00.20.6': {'pos': 207, 'measure': 0.4556812730419411},\n",
       " '0.00.20.8': {'pos': 208, 'measure': 0.4551970928108767},\n",
       " '0.00.21.0': {'pos': 209, 'measure': 0.4551577203893787},\n",
       " '0.00.01.0': {'pos': 210, 'measure': 0.21415574705598647},\n",
       " '0.00.00.8': {'pos': 211, 'measure': 0.21415574705598647},\n",
       " '0.00.00.6': {'pos': 212, 'measure': 0.21415574705598647},\n",
       " '0.00.00.4': {'pos': 213, 'measure': 0.21415574705598647},\n",
       " '0.00.00.2': {'pos': 214, 'measure': 0.21415574705598647}}"
      ]
     },
     "execution_count": 26,
     "metadata": {},
     "output_type": "execute_result"
    }
   ],
   "source": [
    "performance_ranking_on_source('cc15', range(0,50), 'pseudoNDCG')"
   ]
  },
  {
   "cell_type": "code",
   "execution_count": 25,
   "metadata": {},
   "outputs": [
    {
     "data": {
      "text/plain": [
       "{'firstTag': '1.00.00.2',\n",
       " 'sourceFirstPos': 71,\n",
       " 'sourceFirstScore': 0.5912597178679921,\n",
       " 'sourceSecondPost': 147,\n",
       " 'sourceSecondTag': '0.40.00.4',\n",
       " 'sourceSecondScore': 0.5781622172177822}"
      ]
     },
     "execution_count": 25,
     "metadata": {},
     "output_type": "execute_result"
    }
   ],
   "source": [
    "position_pair('cc15', range(0,50), 'pseudoNDCG')"
   ]
  },
  {
   "cell_type": "code",
   "execution_count": 22,
   "metadata": {},
   "outputs": [
    {
     "data": {
      "text/plain": [
       "{'firstTag': '0.60.20.2',\n",
       " 'sourceFirstPos': 53,\n",
       " 'sourceFirstScore': 0.5972886373382029,\n",
       " 'sourceSecondPost': 55,\n",
       " 'sourceSecondTag': '0.80.60.4',\n",
       " 'sourceSecondScore': 0.5966824873103584,\n",
       " 'effectRatio': -32.01656061149727}"
      ]
     },
     "execution_count": 22,
     "metadata": {},
     "output_type": "execute_result"
    }
   ],
   "source": [
    "position_pair('cc15', range(0,50), 'pseudoNDCG')"
   ]
  },
  {
   "cell_type": "code",
   "execution_count": 25,
   "metadata": {},
   "outputs": [],
   "source": [
    "from tqdm import tqdm\n",
    "\n",
    "def sample_pairs_and_save_them(corpus, topics, measure, number_queries):\n",
    "    d = []\n",
    "    for i in tqdm(range(0, number_queries)):\n",
    "        try:\n",
    "            pair = position_pair(corpus, topics, measure)\n",
    "            d+= [pair]\n",
    "        except:\n",
    "            pass\n",
    "\n",
    "    pd.DataFrame(d).to_json(base_dir + 'data-26-10-2020/ir-reproducibility-with-transferred-relevance-judgments/' + corpus + '-' + measure + '.jsonl', lines=True, orient='records')\n",
    "    \n",
    "def all_top_pairs_and_save_them(corpus, topics, measure):\n",
    "    d = []\n",
    "    for left in tqdm(range(0,20)):\n",
    "        for right in range(left +1, 20):\n",
    "            try:\n",
    "                pair = position_pair(corpus, topics, measure, firstPos=left, secondPos=right)\n",
    "                d+= [pair]\n",
    "            except:\n",
    "                pass\n",
    "    pd.DataFrame(d).to_json(base_dir + 'data-26-10-2020/ir-reproducibility-with-transferred-relevance-judgments/top-20-' + corpus + '-' + measure + '.jsonl', lines=True, orient='records')\n",
    "            "
   ]
  },
  {
   "cell_type": "code",
   "execution_count": null,
   "metadata": {},
   "outputs": [
    {
     "name": "stderr",
     "output_type": "stream",
     "text": [
      " 35%|███▍      | 104/300 [00:16<00:32,  5.95it/s]"
     ]
    }
   ],
   "source": [
    "%%time\n",
    "\n",
    "sample_pairs_and_save_them(corpus='cc15', topics=range(0,300), measure='pseudoNDCG', number_queries=300)"
   ]
  },
  {
   "cell_type": "code",
   "execution_count": null,
   "metadata": {},
   "outputs": [],
   "source": [
    "[i for i in all_top_pairs_and_save_them(corpus='cc15', topics=range(0,300), measure='pseudoNDCG')]"
   ]
  },
  {
   "cell_type": "code",
   "execution_count": 43,
   "metadata": {},
   "outputs": [
    {
     "data": {
      "text/plain": [
       "{'firstTag': '1.00.80.4',\n",
       " 'sourceFirstPos': 50,\n",
       " 'sourceFirstScore': 0.5253966412021462,\n",
       " 'sourceSecondPost': 60,\n",
       " 'sourceSecondTag': '1.01.00.8',\n",
       " 'sourceSecondScore': 0.5245060906269584,\n",
       " 'effectRatio': 0.2703620951211685,\n",
       " 'delta_relative_improvement': 0.001296841063476402}"
      ]
     },
     "execution_count": 43,
     "metadata": {},
     "output_type": "execute_result"
    }
   ],
   "source": [
    "position_pair(corpus='cw12', topics=range(0,300), measure='pseudoNDCG', firstPos=50, secondPos=60)"
   ]
  },
  {
   "cell_type": "code",
   "execution_count": 26,
   "metadata": {},
   "outputs": [
    {
     "name": "stderr",
     "output_type": "stream",
     "text": [
      "100%|██████████| 20/20 [03:54<00:00, 11.72s/it]"
     ]
    },
    {
     "name": "stdout",
     "output_type": "stream",
     "text": [
      "CPU times: user 3min 54s, sys: 230 ms, total: 3min 55s\n",
      "Wall time: 3min 54s\n"
     ]
    },
    {
     "name": "stderr",
     "output_type": "stream",
     "text": [
      "\n"
     ]
    }
   ],
   "source": [
    "%%time\n",
    "all_top_pairs_and_save_them(corpus='cc15', topics=range(0,300), measure='pseudoNDCG')"
   ]
  },
  {
   "cell_type": "code",
   "execution_count": 27,
   "metadata": {},
   "outputs": [
    {
     "name": "stderr",
     "output_type": "stream",
     "text": [
      "100%|██████████| 20/20 [04:29<00:00, 13.47s/it]"
     ]
    },
    {
     "name": "stdout",
     "output_type": "stream",
     "text": [
      "CPU times: user 4min 30s, sys: 321 ms, total: 4min 30s\n",
      "Wall time: 4min 29s\n"
     ]
    },
    {
     "name": "stderr",
     "output_type": "stream",
     "text": [
      "\n"
     ]
    }
   ],
   "source": [
    "%%time\n",
    "all_top_pairs_and_save_them(corpus='cw12', topics=range(0,300), measure='pseudoNDCG')"
   ]
  },
  {
   "cell_type": "code",
   "execution_count": 28,
   "metadata": {},
   "outputs": [
    {
     "name": "stderr",
     "output_type": "stream",
     "text": [
      "100%|██████████| 20/20 [04:01<00:00, 12.09s/it]"
     ]
    },
    {
     "name": "stdout",
     "output_type": "stream",
     "text": [
      "CPU times: user 4min 4s, sys: 374 ms, total: 4min 4s\n",
      "Wall time: 4min 1s\n"
     ]
    },
    {
     "name": "stderr",
     "output_type": "stream",
     "text": [
      "\n"
     ]
    }
   ],
   "source": [
    "%%time\n",
    "all_top_pairs_and_save_them(corpus='cw12wb12', topics=range(0,300), measure='pseudoNDCG')"
   ]
  },
  {
   "cell_type": "code",
   "execution_count": 29,
   "metadata": {},
   "outputs": [
    {
     "name": "stderr",
     "output_type": "stream",
     "text": [
      "100%|██████████| 20/20 [02:55<00:00,  8.80s/it]\n"
     ]
    },
    {
     "name": "stdout",
     "output_type": "stream",
     "text": [
      "CPU times: user 2min 56s, sys: 111 ms, total: 2min 56s\n",
      "Wall time: 2min 56s\n"
     ]
    }
   ],
   "source": [
    "%%time\n",
    "all_top_pairs_and_save_them(corpus='cc15', topics=range(0,300), measure='bpref')"
   ]
  },
  {
   "cell_type": "code",
   "execution_count": 30,
   "metadata": {},
   "outputs": [
    {
     "name": "stderr",
     "output_type": "stream",
     "text": [
      "100%|██████████| 20/20 [03:26<00:00, 10.34s/it]\n"
     ]
    },
    {
     "name": "stdout",
     "output_type": "stream",
     "text": [
      "CPU times: user 3min 27s, sys: 211 ms, total: 3min 28s\n",
      "Wall time: 3min 27s\n"
     ]
    }
   ],
   "source": [
    "%%time\n",
    "all_top_pairs_and_save_them(corpus='cw12', topics=range(0,300), measure='bpref')"
   ]
  },
  {
   "cell_type": "code",
   "execution_count": 31,
   "metadata": {},
   "outputs": [
    {
     "name": "stderr",
     "output_type": "stream",
     "text": [
      "100%|██████████| 20/20 [03:49<00:00, 11.47s/it]\n"
     ]
    },
    {
     "name": "stdout",
     "output_type": "stream",
     "text": [
      "CPU times: user 3min 49s, sys: 291 ms, total: 3min 50s\n",
      "Wall time: 3min 49s\n"
     ]
    }
   ],
   "source": [
    "%%time\n",
    "all_top_pairs_and_save_them(corpus='cw12wb12', topics=range(0,300), measure='bpref')"
   ]
  },
  {
   "cell_type": "code",
   "execution_count": 68,
   "metadata": {},
   "outputs": [],
   "source": [
    "from tqdm import tqdm\n",
    "\n",
    "def sample_pairs_and_save_them_with_top_topics(corpus, measure, number_queries):\n",
    "    topics = json.load(open('/mnt/ceph/storage/data-in-progress/kibi9872/sigir2021/data-26-10-2020/top-topics-' + measure + '-to-' + corpus + '.json'))\n",
    "    topics = [int(i) for i in topics]\n",
    "    d = []\n",
    "    for i in tqdm(range(0, number_queries)):\n",
    "        try:\n",
    "            pair = position_pair(corpus, topics, measure)\n",
    "            d+= [pair]\n",
    "        except:\n",
    "            pass\n",
    "\n",
    "    pd.DataFrame(d).to_json(base_dir + 'data-26-10-2020/ir-reproducibility-with-transferred-relevance-judgments/best-topics-' + corpus + '-' + measure + '.jsonl', lines=True, orient='records')\n",
    "    \n",
    "def all_top_pairs_and_save_them_with_top_topics(corpus, measure):\n",
    "    topics = json.load(open('/mnt/ceph/storage/data-in-progress/kibi9872/sigir2021/data-26-10-2020/top-topics-' + measure + '-to-' + corpus + '.json'))\n",
    "    topics = [int(i) for i in topics]\n",
    "    d = []\n",
    "    for left in tqdm(range(0,20)):\n",
    "        for right in range(left +1, 20):\n",
    "            try:\n",
    "                pair = position_pair(corpus, topics, measure, firstPos=left, secondPos=right)\n",
    "                d+= [pair]\n",
    "            except:\n",
    "                pass\n",
    "    pd.DataFrame(d).to_json(base_dir + 'data-26-10-2020/ir-reproducibility-with-transferred-relevance-judgments/best-topics-top-20-' + corpus + '-' + measure + '.jsonl', lines=True, orient='records')\n"
   ]
  },
  {
   "cell_type": "code",
   "execution_count": 69,
   "metadata": {},
   "outputs": [
    {
     "name": "stderr",
     "output_type": "stream",
     "text": [
      "100%|██████████| 2000/2000 [16:59<00:00,  1.96it/s]"
     ]
    },
    {
     "name": "stdout",
     "output_type": "stream",
     "text": [
      "CPU times: user 17min 15s, sys: 6.17 s, total: 17min 21s\n",
      "Wall time: 16min 59s\n"
     ]
    },
    {
     "name": "stderr",
     "output_type": "stream",
     "text": [
      "\n"
     ]
    }
   ],
   "source": [
    "%%time\n",
    "sample_pairs_and_save_them_with_top_topics(corpus='cc15', measure='pseudoNDCG', number_queries=2000)"
   ]
  },
  {
   "cell_type": "code",
   "execution_count": 70,
   "metadata": {},
   "outputs": [
    {
     "name": "stderr",
     "output_type": "stream",
     "text": [
      "100%|██████████| 2000/2000 [12:25<00:00,  2.68it/s]"
     ]
    },
    {
     "name": "stdout",
     "output_type": "stream",
     "text": [
      "CPU times: user 12min 43s, sys: 5.2 s, total: 12min 49s\n",
      "Wall time: 12min 25s\n"
     ]
    },
    {
     "name": "stderr",
     "output_type": "stream",
     "text": [
      "\n"
     ]
    }
   ],
   "source": [
    "%%time\n",
    "sample_pairs_and_save_them_with_top_topics(corpus='cw12', measure='pseudoNDCG', number_queries=2000)"
   ]
  },
  {
   "cell_type": "code",
   "execution_count": 71,
   "metadata": {},
   "outputs": [
    {
     "name": "stderr",
     "output_type": "stream",
     "text": [
      "100%|██████████| 2000/2000 [12:52<00:00,  2.59it/s]"
     ]
    },
    {
     "name": "stdout",
     "output_type": "stream",
     "text": [
      "CPU times: user 13min 13s, sys: 5.65 s, total: 13min 19s\n",
      "Wall time: 12min 52s\n"
     ]
    },
    {
     "name": "stderr",
     "output_type": "stream",
     "text": [
      "\n"
     ]
    }
   ],
   "source": [
    "%%time\n",
    "sample_pairs_and_save_them_with_top_topics(corpus='cw12wb12', measure='pseudoNDCG', number_queries=2000)"
   ]
  },
  {
   "cell_type": "code",
   "execution_count": 72,
   "metadata": {},
   "outputs": [
    {
     "name": "stderr",
     "output_type": "stream",
     "text": [
      "100%|██████████| 2000/2000 [14:43<00:00,  2.26it/s]"
     ]
    },
    {
     "name": "stdout",
     "output_type": "stream",
     "text": [
      "CPU times: user 15min 9s, sys: 6.47 s, total: 15min 15s\n",
      "Wall time: 14min 44s\n"
     ]
    },
    {
     "name": "stderr",
     "output_type": "stream",
     "text": [
      "\n"
     ]
    }
   ],
   "source": [
    "%%time\n",
    "sample_pairs_and_save_them_with_top_topics(corpus='cc15', measure='bpref', number_queries=2000)"
   ]
  },
  {
   "cell_type": "code",
   "execution_count": 73,
   "metadata": {},
   "outputs": [
    {
     "name": "stderr",
     "output_type": "stream",
     "text": [
      "100%|██████████| 2000/2000 [15:18<00:00,  2.18it/s]"
     ]
    },
    {
     "name": "stdout",
     "output_type": "stream",
     "text": [
      "CPU times: user 15min 45s, sys: 7.56 s, total: 15min 53s\n",
      "Wall time: 15min 18s\n"
     ]
    },
    {
     "name": "stderr",
     "output_type": "stream",
     "text": [
      "\n"
     ]
    }
   ],
   "source": [
    "%%time\n",
    "sample_pairs_and_save_them_with_top_topics(corpus='cw12', measure='bpref', number_queries=2000)"
   ]
  },
  {
   "cell_type": "code",
   "execution_count": 74,
   "metadata": {},
   "outputs": [
    {
     "name": "stderr",
     "output_type": "stream",
     "text": [
      "100%|██████████| 2000/2000 [14:52<00:00,  2.24it/s]"
     ]
    },
    {
     "name": "stdout",
     "output_type": "stream",
     "text": [
      "CPU times: user 15min 18s, sys: 6.89 s, total: 15min 25s\n",
      "Wall time: 14min 52s\n"
     ]
    },
    {
     "name": "stderr",
     "output_type": "stream",
     "text": [
      "\n"
     ]
    }
   ],
   "source": [
    "%%time\n",
    "sample_pairs_and_save_them_with_top_topics(corpus='cw12wb12', measure='bpref', number_queries=2000)"
   ]
  },
  {
   "cell_type": "code",
   "execution_count": 35,
   "metadata": {},
   "outputs": [
    {
     "name": "stderr",
     "output_type": "stream",
     "text": [
      "100%|██████████| 20/20 [01:28<00:00,  4.41s/it]"
     ]
    },
    {
     "name": "stdout",
     "output_type": "stream",
     "text": [
      "CPU times: user 1min 28s, sys: 261 ms, total: 1min 29s\n",
      "Wall time: 1min 28s\n"
     ]
    },
    {
     "name": "stderr",
     "output_type": "stream",
     "text": [
      "\n"
     ]
    }
   ],
   "source": [
    "%%time\n",
    "all_top_pairs_and_save_them_with_top_topics(corpus='cc15', measure='pseudoNDCG')"
   ]
  },
  {
   "cell_type": "code",
   "execution_count": 36,
   "metadata": {},
   "outputs": [
    {
     "name": "stderr",
     "output_type": "stream",
     "text": [
      "100%|██████████| 20/20 [01:21<00:00,  4.06s/it]"
     ]
    },
    {
     "name": "stdout",
     "output_type": "stream",
     "text": [
      "CPU times: user 1min 22s, sys: 233 ms, total: 1min 22s\n",
      "Wall time: 1min 21s\n"
     ]
    },
    {
     "name": "stderr",
     "output_type": "stream",
     "text": [
      "\n"
     ]
    }
   ],
   "source": [
    "%%time\n",
    "all_top_pairs_and_save_them_with_top_topics(corpus='cw12', measure='pseudoNDCG')"
   ]
  },
  {
   "cell_type": "code",
   "execution_count": 37,
   "metadata": {},
   "outputs": [
    {
     "name": "stderr",
     "output_type": "stream",
     "text": [
      "100%|██████████| 20/20 [01:30<00:00,  4.53s/it]"
     ]
    },
    {
     "name": "stdout",
     "output_type": "stream",
     "text": [
      "CPU times: user 1min 31s, sys: 232 ms, total: 1min 31s\n",
      "Wall time: 1min 30s\n"
     ]
    },
    {
     "name": "stderr",
     "output_type": "stream",
     "text": [
      "\n"
     ]
    }
   ],
   "source": [
    "%%time\n",
    "all_top_pairs_and_save_them_with_top_topics(corpus='cw12wb12', measure='pseudoNDCG')"
   ]
  },
  {
   "cell_type": "code",
   "execution_count": 38,
   "metadata": {},
   "outputs": [
    {
     "name": "stderr",
     "output_type": "stream",
     "text": [
      "100%|██████████| 20/20 [01:38<00:00,  4.91s/it]"
     ]
    },
    {
     "name": "stdout",
     "output_type": "stream",
     "text": [
      "CPU times: user 1min 38s, sys: 160 ms, total: 1min 38s\n",
      "Wall time: 1min 38s\n"
     ]
    },
    {
     "name": "stderr",
     "output_type": "stream",
     "text": [
      "\n"
     ]
    }
   ],
   "source": [
    "%%time\n",
    "all_top_pairs_and_save_them_with_top_topics(corpus='cc15', measure='bpref')"
   ]
  },
  {
   "cell_type": "code",
   "execution_count": 39,
   "metadata": {},
   "outputs": [
    {
     "name": "stderr",
     "output_type": "stream",
     "text": [
      "100%|██████████| 20/20 [01:56<00:00,  5.82s/it]"
     ]
    },
    {
     "name": "stdout",
     "output_type": "stream",
     "text": [
      "CPU times: user 1min 56s, sys: 250 ms, total: 1min 56s\n",
      "Wall time: 1min 56s\n"
     ]
    },
    {
     "name": "stderr",
     "output_type": "stream",
     "text": [
      "\n"
     ]
    }
   ],
   "source": [
    "%%time\n",
    "all_top_pairs_and_save_them_with_top_topics(corpus='cw12', measure='bpref')"
   ]
  },
  {
   "cell_type": "code",
   "execution_count": 40,
   "metadata": {},
   "outputs": [
    {
     "name": "stderr",
     "output_type": "stream",
     "text": [
      "100%|██████████| 20/20 [01:48<00:00,  5.42s/it]"
     ]
    },
    {
     "name": "stdout",
     "output_type": "stream",
     "text": [
      "CPU times: user 1min 48s, sys: 201 ms, total: 1min 48s\n",
      "Wall time: 1min 48s\n"
     ]
    },
    {
     "name": "stderr",
     "output_type": "stream",
     "text": [
      "\n"
     ]
    }
   ],
   "source": [
    "%%time\n",
    "all_top_pairs_and_save_them_with_top_topics(corpus='cw12wb12', measure='bpref')"
   ]
  },
  {
   "cell_type": "code",
   "execution_count": 57,
   "metadata": {},
   "outputs": [
    {
     "data": {
      "text/html": [
       "<div>\n",
       "<style scoped>\n",
       "    .dataframe tbody tr th:only-of-type {\n",
       "        vertical-align: middle;\n",
       "    }\n",
       "\n",
       "    .dataframe tbody tr th {\n",
       "        vertical-align: top;\n",
       "    }\n",
       "\n",
       "    .dataframe thead th {\n",
       "        text-align: right;\n",
       "    }\n",
       "</style>\n",
       "<table border=\"1\" class=\"dataframe\">\n",
       "  <thead>\n",
       "    <tr style=\"text-align: right;\">\n",
       "      <th></th>\n",
       "      <th>collection</th>\n",
       "      <th>body_lang.en</th>\n",
       "      <th>title_lang.en</th>\n",
       "      <th>meta_desc_lang.en</th>\n",
       "      <th>corpus</th>\n",
       "      <th>topic</th>\n",
       "      <th>bpref</th>\n",
       "      <th>pseudoNDCG@10</th>\n",
       "      <th>pseudoNDCG</th>\n",
       "      <th>tag</th>\n",
       "      <th>is_source_collection</th>\n",
       "      <th>keep</th>\n",
       "    </tr>\n",
       "  </thead>\n",
       "  <tbody>\n",
       "    <tr>\n",
       "      <th>4503</th>\n",
       "      <td>source</td>\n",
       "      <td>0.6</td>\n",
       "      <td>0.6</td>\n",
       "      <td>0.2</td>\n",
       "      <td>source</td>\n",
       "      <td>3</td>\n",
       "      <td>0.429591</td>\n",
       "      <td>0.313747</td>\n",
       "      <td>0.602354</td>\n",
       "      <td>0.60.60.2</td>\n",
       "      <td>True</td>\n",
       "      <td>True</td>\n",
       "    </tr>\n",
       "    <tr>\n",
       "      <th>4516</th>\n",
       "      <td>source</td>\n",
       "      <td>0.6</td>\n",
       "      <td>0.6</td>\n",
       "      <td>0.2</td>\n",
       "      <td>source</td>\n",
       "      <td>16</td>\n",
       "      <td>0.273770</td>\n",
       "      <td>0.071398</td>\n",
       "      <td>0.634622</td>\n",
       "      <td>0.60.60.2</td>\n",
       "      <td>True</td>\n",
       "      <td>True</td>\n",
       "    </tr>\n",
       "    <tr>\n",
       "      <th>4514</th>\n",
       "      <td>source</td>\n",
       "      <td>0.6</td>\n",
       "      <td>0.6</td>\n",
       "      <td>0.2</td>\n",
       "      <td>source</td>\n",
       "      <td>14</td>\n",
       "      <td>0.110469</td>\n",
       "      <td>0.168364</td>\n",
       "      <td>0.601521</td>\n",
       "      <td>0.60.60.2</td>\n",
       "      <td>True</td>\n",
       "      <td>True</td>\n",
       "    </tr>\n",
       "    <tr>\n",
       "      <th>4513</th>\n",
       "      <td>source</td>\n",
       "      <td>0.6</td>\n",
       "      <td>0.6</td>\n",
       "      <td>0.2</td>\n",
       "      <td>source</td>\n",
       "      <td>13</td>\n",
       "      <td>0.125000</td>\n",
       "      <td>0.275553</td>\n",
       "      <td>0.419379</td>\n",
       "      <td>0.60.60.2</td>\n",
       "      <td>True</td>\n",
       "      <td>True</td>\n",
       "    </tr>\n",
       "    <tr>\n",
       "      <th>135982</th>\n",
       "      <td>webis_warc_commoncrawl15_002</td>\n",
       "      <td>0.6</td>\n",
       "      <td>0.6</td>\n",
       "      <td>0.2</td>\n",
       "      <td>cc15</td>\n",
       "      <td>26</td>\n",
       "      <td>0.333333</td>\n",
       "      <td>0.835693</td>\n",
       "      <td>0.835693</td>\n",
       "      <td>0.60.60.2</td>\n",
       "      <td>False</td>\n",
       "      <td>True</td>\n",
       "    </tr>\n",
       "    <tr>\n",
       "      <th>4523</th>\n",
       "      <td>source</td>\n",
       "      <td>0.6</td>\n",
       "      <td>0.6</td>\n",
       "      <td>0.2</td>\n",
       "      <td>source</td>\n",
       "      <td>24</td>\n",
       "      <td>0.266657</td>\n",
       "      <td>0.123515</td>\n",
       "      <td>0.595799</td>\n",
       "      <td>0.60.60.2</td>\n",
       "      <td>True</td>\n",
       "      <td>True</td>\n",
       "    </tr>\n",
       "    <tr>\n",
       "      <th>135985</th>\n",
       "      <td>webis_warc_commoncrawl15_002</td>\n",
       "      <td>0.6</td>\n",
       "      <td>0.6</td>\n",
       "      <td>0.2</td>\n",
       "      <td>cc15</td>\n",
       "      <td>31</td>\n",
       "      <td>0.885714</td>\n",
       "      <td>0.979921</td>\n",
       "      <td>0.979921</td>\n",
       "      <td>0.60.60.2</td>\n",
       "      <td>False</td>\n",
       "      <td>True</td>\n",
       "    </tr>\n",
       "    <tr>\n",
       "      <th>4524</th>\n",
       "      <td>source</td>\n",
       "      <td>0.6</td>\n",
       "      <td>0.6</td>\n",
       "      <td>0.2</td>\n",
       "      <td>source</td>\n",
       "      <td>25</td>\n",
       "      <td>0.236496</td>\n",
       "      <td>0.319972</td>\n",
       "      <td>0.638579</td>\n",
       "      <td>0.60.60.2</td>\n",
       "      <td>True</td>\n",
       "      <td>True</td>\n",
       "    </tr>\n",
       "    <tr>\n",
       "      <th>4530</th>\n",
       "      <td>source</td>\n",
       "      <td>0.6</td>\n",
       "      <td>0.6</td>\n",
       "      <td>0.2</td>\n",
       "      <td>source</td>\n",
       "      <td>31</td>\n",
       "      <td>0.635973</td>\n",
       "      <td>0.618149</td>\n",
       "      <td>0.766573</td>\n",
       "      <td>0.60.60.2</td>\n",
       "      <td>True</td>\n",
       "      <td>True</td>\n",
       "    </tr>\n",
       "    <tr>\n",
       "      <th>4525</th>\n",
       "      <td>source</td>\n",
       "      <td>0.6</td>\n",
       "      <td>0.6</td>\n",
       "      <td>0.2</td>\n",
       "      <td>source</td>\n",
       "      <td>26</td>\n",
       "      <td>0.395556</td>\n",
       "      <td>0.384266</td>\n",
       "      <td>0.708231</td>\n",
       "      <td>0.60.60.2</td>\n",
       "      <td>True</td>\n",
       "      <td>True</td>\n",
       "    </tr>\n",
       "    <tr>\n",
       "      <th>135992</th>\n",
       "      <td>webis_warc_commoncrawl15_002</td>\n",
       "      <td>0.6</td>\n",
       "      <td>0.6</td>\n",
       "      <td>0.2</td>\n",
       "      <td>cc15</td>\n",
       "      <td>44</td>\n",
       "      <td>0.333333</td>\n",
       "      <td>0.564405</td>\n",
       "      <td>0.564405</td>\n",
       "      <td>0.60.60.2</td>\n",
       "      <td>False</td>\n",
       "      <td>True</td>\n",
       "    </tr>\n",
       "    <tr>\n",
       "      <th>135995</th>\n",
       "      <td>webis_warc_commoncrawl15_002</td>\n",
       "      <td>0.6</td>\n",
       "      <td>0.6</td>\n",
       "      <td>0.2</td>\n",
       "      <td>cc15</td>\n",
       "      <td>47</td>\n",
       "      <td>0.760000</td>\n",
       "      <td>0.852031</td>\n",
       "      <td>0.852031</td>\n",
       "      <td>0.60.60.2</td>\n",
       "      <td>False</td>\n",
       "      <td>True</td>\n",
       "    </tr>\n",
       "    <tr>\n",
       "      <th>135996</th>\n",
       "      <td>webis_warc_commoncrawl15_002</td>\n",
       "      <td>0.6</td>\n",
       "      <td>0.6</td>\n",
       "      <td>0.2</td>\n",
       "      <td>cc15</td>\n",
       "      <td>49</td>\n",
       "      <td>0.888889</td>\n",
       "      <td>0.859980</td>\n",
       "      <td>0.859980</td>\n",
       "      <td>0.60.60.2</td>\n",
       "      <td>False</td>\n",
       "      <td>True</td>\n",
       "    </tr>\n",
       "    <tr>\n",
       "      <th>4543</th>\n",
       "      <td>source</td>\n",
       "      <td>0.6</td>\n",
       "      <td>0.6</td>\n",
       "      <td>0.2</td>\n",
       "      <td>source</td>\n",
       "      <td>44</td>\n",
       "      <td>0.246564</td>\n",
       "      <td>0.211275</td>\n",
       "      <td>0.517212</td>\n",
       "      <td>0.60.60.2</td>\n",
       "      <td>True</td>\n",
       "      <td>True</td>\n",
       "    </tr>\n",
       "    <tr>\n",
       "      <th>4546</th>\n",
       "      <td>source</td>\n",
       "      <td>0.6</td>\n",
       "      <td>0.6</td>\n",
       "      <td>0.2</td>\n",
       "      <td>source</td>\n",
       "      <td>47</td>\n",
       "      <td>0.373967</td>\n",
       "      <td>0.364785</td>\n",
       "      <td>0.630841</td>\n",
       "      <td>0.60.60.2</td>\n",
       "      <td>True</td>\n",
       "      <td>True</td>\n",
       "    </tr>\n",
       "    <tr>\n",
       "      <th>4548</th>\n",
       "      <td>source</td>\n",
       "      <td>0.6</td>\n",
       "      <td>0.6</td>\n",
       "      <td>0.2</td>\n",
       "      <td>source</td>\n",
       "      <td>49</td>\n",
       "      <td>0.343490</td>\n",
       "      <td>0.241408</td>\n",
       "      <td>0.536547</td>\n",
       "      <td>0.60.60.2</td>\n",
       "      <td>True</td>\n",
       "      <td>True</td>\n",
       "    </tr>\n",
       "    <tr>\n",
       "      <th>135980</th>\n",
       "      <td>webis_warc_commoncrawl15_002</td>\n",
       "      <td>0.6</td>\n",
       "      <td>0.6</td>\n",
       "      <td>0.2</td>\n",
       "      <td>cc15</td>\n",
       "      <td>24</td>\n",
       "      <td>0.711111</td>\n",
       "      <td>0.777554</td>\n",
       "      <td>0.906637</td>\n",
       "      <td>0.60.60.2</td>\n",
       "      <td>False</td>\n",
       "      <td>True</td>\n",
       "    </tr>\n",
       "    <tr>\n",
       "      <th>135981</th>\n",
       "      <td>webis_warc_commoncrawl15_002</td>\n",
       "      <td>0.6</td>\n",
       "      <td>0.6</td>\n",
       "      <td>0.2</td>\n",
       "      <td>cc15</td>\n",
       "      <td>25</td>\n",
       "      <td>0.545455</td>\n",
       "      <td>0.606142</td>\n",
       "      <td>0.698236</td>\n",
       "      <td>0.60.60.2</td>\n",
       "      <td>False</td>\n",
       "      <td>True</td>\n",
       "    </tr>\n",
       "    <tr>\n",
       "      <th>135975</th>\n",
       "      <td>webis_warc_commoncrawl15_002</td>\n",
       "      <td>0.6</td>\n",
       "      <td>0.6</td>\n",
       "      <td>0.2</td>\n",
       "      <td>cc15</td>\n",
       "      <td>16</td>\n",
       "      <td>0.000000</td>\n",
       "      <td>0.430677</td>\n",
       "      <td>0.430677</td>\n",
       "      <td>0.60.60.2</td>\n",
       "      <td>False</td>\n",
       "      <td>True</td>\n",
       "    </tr>\n",
       "    <tr>\n",
       "      <th>135974</th>\n",
       "      <td>webis_warc_commoncrawl15_002</td>\n",
       "      <td>0.6</td>\n",
       "      <td>0.6</td>\n",
       "      <td>0.2</td>\n",
       "      <td>cc15</td>\n",
       "      <td>14</td>\n",
       "      <td>0.388393</td>\n",
       "      <td>0.271281</td>\n",
       "      <td>0.632002</td>\n",
       "      <td>0.60.60.2</td>\n",
       "      <td>False</td>\n",
       "      <td>True</td>\n",
       "    </tr>\n",
       "    <tr>\n",
       "      <th>135966</th>\n",
       "      <td>webis_warc_commoncrawl15_002</td>\n",
       "      <td>0.6</td>\n",
       "      <td>0.6</td>\n",
       "      <td>0.2</td>\n",
       "      <td>cc15</td>\n",
       "      <td>3</td>\n",
       "      <td>0.000000</td>\n",
       "      <td>0.500000</td>\n",
       "      <td>0.500000</td>\n",
       "      <td>0.60.60.2</td>\n",
       "      <td>False</td>\n",
       "      <td>True</td>\n",
       "    </tr>\n",
       "  </tbody>\n",
       "</table>\n",
       "</div>"
      ],
      "text/plain": [
       "                          collection body_lang.en title_lang.en  \\\n",
       "4503                          source          0.6           0.6   \n",
       "4516                          source          0.6           0.6   \n",
       "4514                          source          0.6           0.6   \n",
       "4513                          source          0.6           0.6   \n",
       "135982  webis_warc_commoncrawl15_002          0.6           0.6   \n",
       "4523                          source          0.6           0.6   \n",
       "135985  webis_warc_commoncrawl15_002          0.6           0.6   \n",
       "4524                          source          0.6           0.6   \n",
       "4530                          source          0.6           0.6   \n",
       "4525                          source          0.6           0.6   \n",
       "135992  webis_warc_commoncrawl15_002          0.6           0.6   \n",
       "135995  webis_warc_commoncrawl15_002          0.6           0.6   \n",
       "135996  webis_warc_commoncrawl15_002          0.6           0.6   \n",
       "4543                          source          0.6           0.6   \n",
       "4546                          source          0.6           0.6   \n",
       "4548                          source          0.6           0.6   \n",
       "135980  webis_warc_commoncrawl15_002          0.6           0.6   \n",
       "135981  webis_warc_commoncrawl15_002          0.6           0.6   \n",
       "135975  webis_warc_commoncrawl15_002          0.6           0.6   \n",
       "135974  webis_warc_commoncrawl15_002          0.6           0.6   \n",
       "135966  webis_warc_commoncrawl15_002          0.6           0.6   \n",
       "\n",
       "       meta_desc_lang.en  corpus  topic     bpref  pseudoNDCG@10  pseudoNDCG  \\\n",
       "4503                 0.2  source      3  0.429591       0.313747    0.602354   \n",
       "4516                 0.2  source     16  0.273770       0.071398    0.634622   \n",
       "4514                 0.2  source     14  0.110469       0.168364    0.601521   \n",
       "4513                 0.2  source     13  0.125000       0.275553    0.419379   \n",
       "135982               0.2    cc15     26  0.333333       0.835693    0.835693   \n",
       "4523                 0.2  source     24  0.266657       0.123515    0.595799   \n",
       "135985               0.2    cc15     31  0.885714       0.979921    0.979921   \n",
       "4524                 0.2  source     25  0.236496       0.319972    0.638579   \n",
       "4530                 0.2  source     31  0.635973       0.618149    0.766573   \n",
       "4525                 0.2  source     26  0.395556       0.384266    0.708231   \n",
       "135992               0.2    cc15     44  0.333333       0.564405    0.564405   \n",
       "135995               0.2    cc15     47  0.760000       0.852031    0.852031   \n",
       "135996               0.2    cc15     49  0.888889       0.859980    0.859980   \n",
       "4543                 0.2  source     44  0.246564       0.211275    0.517212   \n",
       "4546                 0.2  source     47  0.373967       0.364785    0.630841   \n",
       "4548                 0.2  source     49  0.343490       0.241408    0.536547   \n",
       "135980               0.2    cc15     24  0.711111       0.777554    0.906637   \n",
       "135981               0.2    cc15     25  0.545455       0.606142    0.698236   \n",
       "135975               0.2    cc15     16  0.000000       0.430677    0.430677   \n",
       "135974               0.2    cc15     14  0.388393       0.271281    0.632002   \n",
       "135966               0.2    cc15      3  0.000000       0.500000    0.500000   \n",
       "\n",
       "              tag  is_source_collection  keep  \n",
       "4503    0.60.60.2                  True  True  \n",
       "4516    0.60.60.2                  True  True  \n",
       "4514    0.60.60.2                  True  True  \n",
       "4513    0.60.60.2                  True  True  \n",
       "135982  0.60.60.2                 False  True  \n",
       "4523    0.60.60.2                  True  True  \n",
       "135985  0.60.60.2                 False  True  \n",
       "4524    0.60.60.2                  True  True  \n",
       "4530    0.60.60.2                  True  True  \n",
       "4525    0.60.60.2                  True  True  \n",
       "135992  0.60.60.2                 False  True  \n",
       "135995  0.60.60.2                 False  True  \n",
       "135996  0.60.60.2                 False  True  \n",
       "4543    0.60.60.2                  True  True  \n",
       "4546    0.60.60.2                  True  True  \n",
       "4548    0.60.60.2                  True  True  \n",
       "135980  0.60.60.2                 False  True  \n",
       "135981  0.60.60.2                 False  True  \n",
       "135975  0.60.60.2                 False  True  \n",
       "135974  0.60.60.2                 False  True  \n",
       "135966  0.60.60.2                 False  True  "
      ]
     },
     "execution_count": 57,
     "metadata": {},
     "output_type": "execute_result"
    }
   ],
   "source": [
    "topics_to_performance_on_source_and_on_target_for_tag('cc15', '0.60.60.2', [i for i in range(0,50)], 'pseudoNDCG')"
   ]
  },
  {
   "cell_type": "code",
   "execution_count": 80,
   "metadata": {},
   "outputs": [
    {
     "data": {
      "text/html": [
       "<div>\n",
       "<style scoped>\n",
       "    .dataframe tbody tr th:only-of-type {\n",
       "        vertical-align: middle;\n",
       "    }\n",
       "\n",
       "    .dataframe tbody tr th {\n",
       "        vertical-align: top;\n",
       "    }\n",
       "\n",
       "    .dataframe thead th {\n",
       "        text-align: right;\n",
       "    }\n",
       "</style>\n",
       "<table border=\"1\" class=\"dataframe\">\n",
       "  <thead>\n",
       "    <tr style=\"text-align: right;\">\n",
       "      <th></th>\n",
       "      <th>index</th>\n",
       "      <th>collection</th>\n",
       "      <th>topic</th>\n",
       "      <th>measure</th>\n",
       "    </tr>\n",
       "  </thead>\n",
       "  <tbody>\n",
       "    <tr>\n",
       "      <th>0</th>\n",
       "      <td>4503</td>\n",
       "      <td>source</td>\n",
       "      <td>3</td>\n",
       "      <td>0.602354</td>\n",
       "    </tr>\n",
       "    <tr>\n",
       "      <th>1</th>\n",
       "      <td>4516</td>\n",
       "      <td>source</td>\n",
       "      <td>16</td>\n",
       "      <td>0.634622</td>\n",
       "    </tr>\n",
       "    <tr>\n",
       "      <th>2</th>\n",
       "      <td>4514</td>\n",
       "      <td>source</td>\n",
       "      <td>14</td>\n",
       "      <td>0.601521</td>\n",
       "    </tr>\n",
       "    <tr>\n",
       "      <th>3</th>\n",
       "      <td>4513</td>\n",
       "      <td>source</td>\n",
       "      <td>13</td>\n",
       "      <td>0.419379</td>\n",
       "    </tr>\n",
       "    <tr>\n",
       "      <th>4</th>\n",
       "      <td>135982</td>\n",
       "      <td>webis_warc_commoncrawl15_002</td>\n",
       "      <td>26</td>\n",
       "      <td>0.835693</td>\n",
       "    </tr>\n",
       "    <tr>\n",
       "      <th>5</th>\n",
       "      <td>4523</td>\n",
       "      <td>source</td>\n",
       "      <td>24</td>\n",
       "      <td>0.595799</td>\n",
       "    </tr>\n",
       "    <tr>\n",
       "      <th>6</th>\n",
       "      <td>135985</td>\n",
       "      <td>webis_warc_commoncrawl15_002</td>\n",
       "      <td>31</td>\n",
       "      <td>0.979921</td>\n",
       "    </tr>\n",
       "    <tr>\n",
       "      <th>7</th>\n",
       "      <td>4524</td>\n",
       "      <td>source</td>\n",
       "      <td>25</td>\n",
       "      <td>0.638579</td>\n",
       "    </tr>\n",
       "    <tr>\n",
       "      <th>8</th>\n",
       "      <td>4530</td>\n",
       "      <td>source</td>\n",
       "      <td>31</td>\n",
       "      <td>0.766573</td>\n",
       "    </tr>\n",
       "    <tr>\n",
       "      <th>9</th>\n",
       "      <td>4525</td>\n",
       "      <td>source</td>\n",
       "      <td>26</td>\n",
       "      <td>0.708231</td>\n",
       "    </tr>\n",
       "    <tr>\n",
       "      <th>10</th>\n",
       "      <td>135992</td>\n",
       "      <td>webis_warc_commoncrawl15_002</td>\n",
       "      <td>44</td>\n",
       "      <td>0.564405</td>\n",
       "    </tr>\n",
       "    <tr>\n",
       "      <th>11</th>\n",
       "      <td>135995</td>\n",
       "      <td>webis_warc_commoncrawl15_002</td>\n",
       "      <td>47</td>\n",
       "      <td>0.852031</td>\n",
       "    </tr>\n",
       "    <tr>\n",
       "      <th>12</th>\n",
       "      <td>135996</td>\n",
       "      <td>webis_warc_commoncrawl15_002</td>\n",
       "      <td>49</td>\n",
       "      <td>0.859980</td>\n",
       "    </tr>\n",
       "    <tr>\n",
       "      <th>13</th>\n",
       "      <td>4543</td>\n",
       "      <td>source</td>\n",
       "      <td>44</td>\n",
       "      <td>0.517212</td>\n",
       "    </tr>\n",
       "    <tr>\n",
       "      <th>14</th>\n",
       "      <td>4546</td>\n",
       "      <td>source</td>\n",
       "      <td>47</td>\n",
       "      <td>0.630841</td>\n",
       "    </tr>\n",
       "    <tr>\n",
       "      <th>15</th>\n",
       "      <td>4548</td>\n",
       "      <td>source</td>\n",
       "      <td>49</td>\n",
       "      <td>0.536547</td>\n",
       "    </tr>\n",
       "    <tr>\n",
       "      <th>16</th>\n",
       "      <td>135980</td>\n",
       "      <td>webis_warc_commoncrawl15_002</td>\n",
       "      <td>24</td>\n",
       "      <td>0.906637</td>\n",
       "    </tr>\n",
       "    <tr>\n",
       "      <th>17</th>\n",
       "      <td>135981</td>\n",
       "      <td>webis_warc_commoncrawl15_002</td>\n",
       "      <td>25</td>\n",
       "      <td>0.698236</td>\n",
       "    </tr>\n",
       "    <tr>\n",
       "      <th>18</th>\n",
       "      <td>135975</td>\n",
       "      <td>webis_warc_commoncrawl15_002</td>\n",
       "      <td>16</td>\n",
       "      <td>0.430677</td>\n",
       "    </tr>\n",
       "    <tr>\n",
       "      <th>19</th>\n",
       "      <td>135974</td>\n",
       "      <td>webis_warc_commoncrawl15_002</td>\n",
       "      <td>14</td>\n",
       "      <td>0.632002</td>\n",
       "    </tr>\n",
       "    <tr>\n",
       "      <th>20</th>\n",
       "      <td>135966</td>\n",
       "      <td>webis_warc_commoncrawl15_002</td>\n",
       "      <td>3</td>\n",
       "      <td>0.500000</td>\n",
       "    </tr>\n",
       "  </tbody>\n",
       "</table>\n",
       "</div>"
      ],
      "text/plain": [
       "     index                    collection  topic   measure\n",
       "0     4503                        source      3  0.602354\n",
       "1     4516                        source     16  0.634622\n",
       "2     4514                        source     14  0.601521\n",
       "3     4513                        source     13  0.419379\n",
       "4   135982  webis_warc_commoncrawl15_002     26  0.835693\n",
       "5     4523                        source     24  0.595799\n",
       "6   135985  webis_warc_commoncrawl15_002     31  0.979921\n",
       "7     4524                        source     25  0.638579\n",
       "8     4530                        source     31  0.766573\n",
       "9     4525                        source     26  0.708231\n",
       "10  135992  webis_warc_commoncrawl15_002     44  0.564405\n",
       "11  135995  webis_warc_commoncrawl15_002     47  0.852031\n",
       "12  135996  webis_warc_commoncrawl15_002     49  0.859980\n",
       "13    4543                        source     44  0.517212\n",
       "14    4546                        source     47  0.630841\n",
       "15    4548                        source     49  0.536547\n",
       "16  135980  webis_warc_commoncrawl15_002     24  0.906637\n",
       "17  135981  webis_warc_commoncrawl15_002     25  0.698236\n",
       "18  135975  webis_warc_commoncrawl15_002     16  0.430677\n",
       "19  135974  webis_warc_commoncrawl15_002     14  0.632002\n",
       "20  135966  webis_warc_commoncrawl15_002      3  0.500000"
      ]
     },
     "execution_count": 80,
     "metadata": {},
     "output_type": "execute_result"
    }
   ],
   "source": [
    "topics_to_performance_on_source_and_on_target_for_tag('cc15', '0.60.60.2', [i for i in range(0,50)], 'pseudoNDCG')"
   ]
  },
  {
   "cell_type": "code",
   "execution_count": 73,
   "metadata": {},
   "outputs": [
    {
     "data": {
      "text/plain": [
       "{3, 13, 14, 16, 24, 25, 26, 31, 44, 47, 49}"
      ]
     },
     "execution_count": 73,
     "metadata": {},
     "output_type": "execute_result"
    }
   ],
   "source": [
    "set(topics_to_performance_on_source_and_on_target_for_tag('cc15', '0.60.60.2', [i for i in range(0,50)], 'pseudoNDCG').topic.unique())"
   ]
  },
  {
   "cell_type": "code",
   "execution_count": 69,
   "metadata": {},
   "outputs": [],
   "source": [
    "def effect_ratio(df, measure):\n",
    "    topics = set(df.topic.unique())\n",
    "    \n",
    "    numerator = 0\n",
    "    denominator = 0\n",
    "    \n",
    "    for topic in topics:\n",
    "        numerator += m_new(df, topic, measure)\n",
    "        denominator += m_old(df, topic, measure)\n",
    "    \n",
    "    return (numerator/len(topics))/(denominator/len(topics))\n",
    "                 \n",
    "\n",
    "\n",
    "def m_old(df, topic, measure):\n",
    "    df = df[(df['collection'] == 'source') & (df['topic'] == topic)]\n",
    "    if len(df) != 1:\n",
    "        raise\n",
    "    \n",
    "    return df.iloc[0][measure]\n",
    "\n",
    "def m_new(df, topic, measure):\n",
    "    df = df[(df['collection'] != 'source') & (df['topic'] == topic)]\n",
    "    if len(df) != 1:\n",
    "        raise\n",
    "    \n",
    "    return df.iloc[0][measure]\n",
    "\n",
    "def relative_improvement_old(df, topic, measure):\n",
    "    topics = set(df.topic.unique())\n",
    "    mean_score_"
   ]
  },
  {
   "cell_type": "code",
   "execution_count": 67,
   "metadata": {},
   "outputs": [
    {
     "data": {
      "text/plain": [
       "0.536546781718382"
      ]
     },
     "execution_count": 67,
     "metadata": {},
     "output_type": "execute_result"
    }
   ],
   "source": [
    "m_old(topics_to_performance_on_source_and_on_target_for_tag('cc15', '0.60.60.2', [i for i in range(0,50)], 'pseudoNDCG'), 49, 'pseudoNDCG')"
   ]
  },
  {
   "cell_type": "code",
   "execution_count": 70,
   "metadata": {},
   "outputs": [
    {
     "data": {
      "text/plain": [
       "0.8599797111848091"
      ]
     },
     "execution_count": 70,
     "metadata": {},
     "output_type": "execute_result"
    }
   ],
   "source": [
    "m_new(topics_to_performance_on_source_and_on_target_for_tag('cc15', '0.60.60.2', [i for i in range(0,50)], 'pseudoNDCG'), 49, 'pseudoNDCG')"
   ]
  },
  {
   "cell_type": "markdown",
   "metadata": {},
   "source": [
    "# Evaluation Tables"
   ]
  },
  {
   "cell_type": "code",
   "execution_count": 3,
   "metadata": {},
   "outputs": [],
   "source": [
    "def count_df(corpus, measure):\n",
    "    df_1 = pd.read_json(base_dir + 'data-26-10-2020/ir-reproducibility-with-transferred-relevance-judgments/best-topics-top-20-' + corpus + '-' + measure + '.jsonl', lines=True)\n",
    "    df_2 = pd.read_json(base_dir + 'data-26-10-2020/ir-reproducibility-with-transferred-relevance-judgments/best-topics-' + corpus + '-' + measure + '.jsonl', lines=True)\n",
    "    \n",
    "    df = pd.concat([df_1, df_2])\n",
    "    \n",
    "    df['posDist'] = df['sourceSecondPost'] - df['sourceFirstPos']\n",
    "    return df\n"
   ]
  },
  {
   "cell_type": "code",
   "execution_count": 45,
   "metadata": {},
   "outputs": [
    {
     "data": {
      "text/plain": [
       "{'effect-size-success-absolute-scores-success': 134,\n",
       " 'effect-size-failure-absolute-scores-failure': 45,\n",
       " 'effect-size-success-absolute-scores-failure': 11}"
      ]
     },
     "execution_count": 45,
     "metadata": {},
     "output_type": "execute_result"
    }
   ],
   "source": [
    "count_stuff('cc15', 'pseudoNDCG')"
   ]
  },
  {
   "cell_type": "code",
   "execution_count": 46,
   "metadata": {},
   "outputs": [
    {
     "data": {
      "text/plain": [
       "{'effect-size-failure-absolute-scores-failure': 103,\n",
       " 'effect-size-success-absolute-scores-success': 81,\n",
       " 'effect-size-success-absolute-scores-failure': 6}"
      ]
     },
     "execution_count": 46,
     "metadata": {},
     "output_type": "execute_result"
    }
   ],
   "source": [
    "count_stuff('cw12', 'pseudoNDCG')"
   ]
  },
  {
   "cell_type": "code",
   "execution_count": 47,
   "metadata": {},
   "outputs": [
    {
     "data": {
      "text/plain": [
       "{'effect-size-failure-absolute-scores-failure': 31,\n",
       " 'effect-size-success-absolute-scores-failure': 41,\n",
       " 'effect-size-success-absolute-scores-success': 118}"
      ]
     },
     "execution_count": 47,
     "metadata": {},
     "output_type": "execute_result"
    }
   ],
   "source": [
    "count_stuff('cw12wb12', 'pseudoNDCG')"
   ]
  },
  {
   "cell_type": "code",
   "execution_count": 48,
   "metadata": {},
   "outputs": [
    {
     "data": {
      "text/plain": [
       "{'effect-size-failure-absolute-scores-failure': 114,\n",
       " 'effect-size-success-absolute-scores-success': 36,\n",
       " 'effect-size-success-absolute-scores-failure': 40}"
      ]
     },
     "execution_count": 48,
     "metadata": {},
     "output_type": "execute_result"
    }
   ],
   "source": [
    "count_stuff('cc15', 'bpref')"
   ]
  },
  {
   "cell_type": "code",
   "execution_count": 49,
   "metadata": {},
   "outputs": [
    {
     "data": {
      "text/plain": [
       "{'effect-size-failure-absolute-scores-failure': 97,\n",
       " 'effect-size-success-absolute-scores-failure': 21,\n",
       " 'effect-size-success-absolute-scores-success': 72}"
      ]
     },
     "execution_count": 49,
     "metadata": {},
     "output_type": "execute_result"
    }
   ],
   "source": [
    "count_stuff('cw12', 'bpref')"
   ]
  },
  {
   "cell_type": "code",
   "execution_count": 50,
   "metadata": {},
   "outputs": [
    {
     "data": {
      "text/plain": [
       "{'effect-size-failure-absolute-scores-failure': 53,\n",
       " 'effect-size-success-absolute-scores-success': 99,\n",
       " 'effect-size-success-absolute-scores-failure': 38}"
      ]
     },
     "execution_count": 50,
     "metadata": {},
     "output_type": "execute_result"
    }
   ],
   "source": [
    "count_stuff('cw12wb12', 'bpref')"
   ]
  },
  {
   "cell_type": "code",
   "execution_count": 17,
   "metadata": {},
   "outputs": [
    {
     "data": {
      "text/plain": [
       "{'effect-size-failure-absolute-scores-failure': 124,\n",
       " 'effect-size-success-absolute-scores-success': 1126,\n",
       " 'effect-size-success-absolute-scores-failure': 752}"
      ]
     },
     "execution_count": 17,
     "metadata": {},
     "output_type": "execute_result"
    }
   ],
   "source": [
    "count_stuff('cw12wb12', 'bpref',300)"
   ]
  },
  {
   "cell_type": "code",
   "execution_count": null,
   "metadata": {},
   "outputs": [],
   "source": [
    "POSITION_THRESHOLD=10\n",
    "\n",
    "def corpus_display_name(corpus):\n",
    "    if corpus == 'cw12':\n",
    "        return 'CW12'\n",
    "    elif corpus == 'cw12wb12':\n",
    "        return 'CW12+'\n",
    "    elif corpus == 'cc15':\n",
    "        return 'CC15'\n",
    "    raise\n",
    "\n",
    "def row_table_ir_reproducibility(corpus, measure):\n",
    "    df = count_df(corpus, measure)\n",
    "    small_effect_sizes = df[df['posDist'] < POSITION_THRESHOLD]\n",
    "    large_effect_sizes = df[df['posDist'] >= POSITION_THRESHOLD]\n",
    "    \n",
    "    small_effect_sizes = classify_repro_pairs(small_effect_sizes)\n",
    "    success_success = small_effect_sizes.get('effect-size-success-absolute-scores-success', 0)\n",
    "    success_failure = small_effect_sizes.get('effect-size-success-absolute-scores-failure', 0)\n",
    "    failure_failure = small_effect_sizes.get('effect-size-failure-absolute-scores-failure', 0)\n",
    "    failure_failure += small_effect_sizes.get('effect-size-failure-absolute-scores-success', 0)\n",
    "    \n",
    "    all_count = success_success + success_failure + failure_failure\n",
    "    \n",
    "    \n",
    "    ret = '& ' + corpus_display_name(corpus) + ' & ' + '{:.1f}'.format((success_success/all_count)*100) + ' & ' + '{:.1f}'.format((success_failure/all_count)*100) + ' & ' + '{:.1f}'.format((failure_failure/all_count)*100) +' & '\n",
    "\n",
    "    large_effect_sizes = classify_repro_pairs(large_effect_sizes)\n",
    "    success_success = large_effect_sizes.get('effect-size-success-absolute-scores-success', 0)\n",
    "    success_failure = large_effect_sizes.get('effect-size-success-absolute-scores-failure', 0)\n",
    "    failure_failure = large_effect_sizes.get('effect-size-failure-absolute-scores-failure', 0)\n",
    "    failure_failure += large_effect_sizes.get('effect-size-failure-absolute-scores-success', 0)\n",
    "    \n",
    "    all_count = success_success + success_failure + failure_failure\n",
    "    \n",
    "    ret = ret + '{:.1f}'.format((success_success/all_count)*100) + ' & ' + '{:.1f}'.format((success_failure/all_count)*100) + ' & ' + '{:.1f}'.format((failure_failure/all_count)*100) +' \\\\\\\\'\n",
    "    \n",
    "    df = classify_repro_pairs(df)\n",
    "    success_success = df.get('effect-size-success-absolute-scores-success', 0)\n",
    "    success_failure = df.get('effect-size-success-absolute-scores-failure', 0)\n",
    "    failure_failure = df.get('effect-size-failure-absolute-scores-failure', 0)\n",
    "    failure_failure += df.get('effect-size-failure-absolute-scores-success', 0)\n",
    "    \n",
    "    all_count = success_success + success_failure + failure_failure\n",
    "    \n",
    "    return ret + '# for all: ' + '{:.1f}'.format((success_success/all_count)*100) + ' & ' + '{:.1f}'.format((success_failure/all_count)*100) + ' & ' + '{:.1f}'.format((failure_failure/all_count)*100) +' \\\\\\\\'\n",
    "    \n",
    "def create_table_ir_reproducibility():\n",
    "    return \"\"\"\\\\begin{table}[tb]\n",
    "\\\\centering\n",
    "\\\\small\n",
    "\\\\setlength{\\\\tabcolsep}{3pt}%\n",
    "\\\\caption{TBD.: This is $\\\\ndcg$. Add bpref also?}\n",
    "\n",
    "\\\\label{table-ir-reproducibility}\n",
    "\\\\begin{tabular}{@{}clcccccc@{}}\n",
    "\\\\toprule\n",
    "\n",
    "\\\\multicolumn{2}{c@{}}{\\\\bfseries Target} & \\\\multicolumn{3}{c@{}}{\\\\bfseries $\\\\leq$ \"\"\" + str(POSITION_THRESHOLD) + \"\"\" Positions} & \\\\multicolumn{3}{c@{}}{\\\\bfseries > \"\"\" + str(POSITION_THRESHOLD) + \"\"\" Positions} \\\\\\\\\n",
    "\n",
    "\\\\cmidrule{3-5}\n",
    "\\\\cmidrule(l@{1em}){6-8}\n",
    "\n",
    "&& S/S & S/F & F/* & S/S & S/F & F/*\\\\\\\\\n",
    "\n",
    "\\\\midrule\n",
    "\\\\parbox[t]{2mm}{\\\\multirow{3}{*}{\\\\rotatebox[origin=c]{90}{\\\\small $\\\\ndcg$ \\\\kern-0.6em}}}\n",
    "\"\"\" + row_table_ir_reproducibility('cw12', 'pseudoNDCG') + \"\"\"\n",
    "\"\"\" + row_table_ir_reproducibility('cw12wb12', 'pseudoNDCG') + \"\"\"\n",
    "\"\"\" + row_table_ir_reproducibility('cc15', 'pseudoNDCG') + \"\"\"\n",
    "\\\\midrule\n",
    "\\\\parbox[t]{2mm}{\\\\multirow{3}{*}{\\\\rotatebox[origin=c]{90}{\\\\small bpref \\\\kern-0.6em}}}\n",
    "\"\"\" + row_table_ir_reproducibility('cw12', 'bpref') + \"\"\"\n",
    "\"\"\" + row_table_ir_reproducibility('cw12wb12', 'bpref') + \"\"\"\n",
    "\"\"\" + row_table_ir_reproducibility('cc15', 'bpref') + \"\"\"\n",
    "\n",
    "\\\\bottomrule\n",
    "\\\\end{tabular}\n",
    "\\\\end{table}\n",
    "\"\"\"\n",
    "\n",
    "table_ir_reproducibility = create_table_ir_reproducibility()\n",
    "with open('/sigir21/sigir21-relevance-label-transfer-paper-submitted/table-ir-reproducibility.tex', 'w+') as f:\n",
    "    f.write(table_ir_reproducibility)"
   ]
  }
 ],
 "metadata": {
  "kernelspec": {
   "display_name": "Python 3",
   "language": "python",
   "name": "python3"
  },
  "language_info": {
   "codemirror_mode": {
    "name": "ipython",
    "version": 3
   },
   "file_extension": ".py",
   "mimetype": "text/x-python",
   "name": "python",
   "nbconvert_exporter": "python",
   "pygments_lexer": "ipython3",
   "version": "3.7.6"
  }
 },
 "nbformat": 4,
 "nbformat_minor": 4
}
